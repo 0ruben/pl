{
 "cells": [
  {
   "cell_type": "markdown",
   "metadata": {
    "deletable": true,
    "editable": true
   },
   "source": [
    "# DATA SCIENCE ASSIGNMENT"
   ]
  },
  {
   "cell_type": "code",
   "execution_count": 1,
   "metadata": {
    "collapsed": false,
    "deletable": true,
    "editable": true
   },
   "outputs": [],
   "source": [
    "#PACKAGES REQUIRED : pandas, numpy, scipy, matplotlib, xgboost, sklearn, imblearn\n",
    "import pandas as pd\n",
    "import numpy as np\n",
    "from scipy import interp\n",
    "import matplotlib\n",
    "import matplotlib.pyplot as plt\n",
    "import xgboost as xgb\n",
    "from xgboost.sklearn import XGBClassifier\n",
    "from sklearn.model_selection import cross_val_score\n",
    "from sklearn.model_selection import StratifiedKFold\n",
    "from sklearn.preprocessing import StandardScaler\n",
    "from sklearn.metrics import f1_score\n",
    "from sklearn.model_selection import GridSearchCV\n",
    "from sklearn.metrics import precision_recall_fscore_support\n",
    "from sklearn.metrics import precision_recall_curve\n",
    "from sklearn.metrics import average_precision_score\n",
    "from imblearn.under_sampling import NearMiss\n",
    "from imblearn.over_sampling import SMOTE \n",
    "%matplotlib inline "
   ]
  },
  {
   "cell_type": "code",
   "execution_count": 2,
   "metadata": {
    "collapsed": false,
    "deletable": true,
    "editable": true
   },
   "outputs": [],
   "source": [
    "df = pd.read_excel('Data Scientist Research Assignment (21.08.17).xlsx', sheetname='Data', header=0)"
   ]
  },
  {
   "cell_type": "code",
   "execution_count": 3,
   "metadata": {
    "collapsed": false,
    "deletable": true,
    "editable": true
   },
   "outputs": [
    {
     "name": "stdout",
     "output_type": "stream",
     "text": [
      "Shape of the dataframe : (289023, 20)\n"
     ]
    }
   ],
   "source": [
    "print 'Shape of the dataframe : {}'.format(df.shape) "
   ]
  },
  {
   "cell_type": "code",
   "execution_count": 4,
   "metadata": {
    "collapsed": false,
    "deletable": true,
    "editable": true
   },
   "outputs": [
    {
     "name": "stdout",
     "output_type": "stream",
     "text": [
      "Number of unique segments : 287527\n",
      "Number of duplicated segments 1496\n",
      "Number of negative values : 0\n",
      "We chose to remove the duplicates and keep the first occurence\n"
     ]
    }
   ],
   "source": [
    "df['Segment'] = df['Game'] + df['Affiliate'] + df['Platform'] + df['Country'] + df['Placement'] \n",
    "print 'Number of unique segments : %s' % df['Segment'].nunique()\n",
    "print 'Number of duplicated segments %s' % str((df.shape[0]) - df['Segment'].nunique())\n",
    "print 'Number of negative values : %s' % np.sum((df < 0).values.ravel())\n",
    "print 'We chose to remove the duplicates and keep the first occurence'\n",
    "df.drop_duplicates(subset=['Segment'], keep='first', inplace=True)"
   ]
  },
  {
   "cell_type": "code",
   "execution_count": 5,
   "metadata": {
    "collapsed": false,
    "deletable": true,
    "editable": true
   },
   "outputs": [
    {
     "name": "stdout",
     "output_type": "stream",
     "text": [
      "Number of CTR > 1 : 2\n"
     ]
    }
   ],
   "source": [
    "df['CTR'] = np.where(df['Impressions'] != 0, df['Clicks'] / df['Impressions'], 0)\n",
    "print 'Number of CTR > 1 : %s' % len(df[df['CTR'] > 1])"
   ]
  },
  {
   "cell_type": "code",
   "execution_count": 6,
   "metadata": {
    "collapsed": false,
    "deletable": true,
    "editable": true
   },
   "outputs": [
    {
     "name": "stdout",
     "output_type": "stream",
     "text": [
      "Number of Depositors Rate > 1 : 1350\n"
     ]
    }
   ],
   "source": [
    "df['DepositorsRate'] = np.where(df['Depositors'] != 0, df['Depositors'] / df['Installs'], 0)\n",
    "print 'Number of Depositors Rate > 1 : %s' % len(df[df['DepositorsRate'] > 1])"
   ]
  },
  {
   "cell_type": "code",
   "execution_count": 7,
   "metadata": {
    "collapsed": false,
    "deletable": true,
    "editable": true
   },
   "outputs": [
    {
     "name": "stdout",
     "output_type": "stream",
     "text": [
      "We remove the segments containing these anomalies\n",
      "Size of the dataframe 286175\n"
     ]
    }
   ],
   "source": [
    "df = df[df['CTR'] <= 1]\n",
    "df = df[df['DepositorsRate'] <= 1]\n",
    "print 'We remove the segments containing these anomalies'\n",
    "print 'Size of the dataframe %s' % len(df)"
   ]
  },
  {
   "cell_type": "code",
   "execution_count": 8,
   "metadata": {
    "collapsed": false,
    "deletable": true,
    "editable": true
   },
   "outputs": [
    {
     "name": "stdout",
     "output_type": "stream",
     "text": [
      "Number of \"good\" segments : 3044\n"
     ]
    }
   ],
   "source": [
    "print 'Number of \"good\" segments : %s' % len(df[(df['DepositorsRate'] > 0.02)])"
   ]
  },
  {
   "cell_type": "code",
   "execution_count": 9,
   "metadata": {
    "collapsed": false,
    "deletable": true,
    "editable": true
   },
   "outputs": [
    {
     "name": "stdout",
     "output_type": "stream",
     "text": [
      "Number of Segments' budgets < 5 : 219229\n",
      "For our modelisation, We have chosen to dismiss those segments because even if we predict a \"good\" segment in this budget range it will have a very low impact on the business\n",
      "Size of the DF without these segments : 66613\n"
     ]
    }
   ],
   "source": [
    "print 'Number of Segments\\' budgets < 5 : %s' % len(df[df['Spend'] < 5])\n",
    "print 'For our modelisation, We have chosen to dismiss those segments because even if we predict a \"good\" segment in this budget range it will have a very low impact on the business'\n",
    "df = df[(df['Spend'] > 5)]\n",
    "print 'Size of the DF without these segments : %s' % len(df)"
   ]
  },
  {
   "cell_type": "code",
   "execution_count": 10,
   "metadata": {
    "collapsed": false,
    "deletable": true,
    "editable": true
   },
   "outputs": [
    {
     "name": "stdout",
     "output_type": "stream",
     "text": [
      "Number of \"good\" segments with budget >= 5 : 2829\n",
      "We have in the same time reduced the number of \"negative\" examples with this cut, in order to get a more balanced dataset and to remove noisy data\n",
      "The number of \"positive\" segments is about the same which is good\n"
     ]
    }
   ],
   "source": [
    "print 'Number of \"good\" segments with budget >= 5 : %s' % len(df[(df['DepositorsRate'] > 0.02)])\n",
    "print 'We have in the same time reduced the number of \"negative\" examples with this cut, in order to get a more balanced dataset and to remove noisy data'\n",
    "print 'The number of \"positive\" segments is about the same which is good'"
   ]
  },
  {
   "cell_type": "code",
   "execution_count": 11,
   "metadata": {
    "collapsed": false,
    "deletable": true,
    "editable": true
   },
   "outputs": [
    {
     "name": "stdout",
     "output_type": "stream",
     "text": [
      "Total of profitable (positive ROI) segments at a date t (t : date at which the deposits data has been retrieved) : 474\n",
      "Number of profitable (positive ROI) segments within the \"good\" ones at a date t : 465\n",
      "A lot of \"good\" segments have a negative ROI, maybe because the ROI becomes positive after a time longer than t\n",
      "Almost all the profitables segments are tagged \"good\", which is reassuring (466 out of 475)\n"
     ]
    }
   ],
   "source": [
    "print 'Total of profitable (positive ROI) segments at a date t (t : date at which the deposits data has been retrieved) : %s' % len(df[df['Spend'] < df['DepositAmount']])\n",
    "print 'Number of profitable (positive ROI) segments within the \"good\" ones at a date t : %s' % len(df[(df['DepositorsRate'] > 0.02) & (df['Spend'] < df['DepositAmount'])])\n",
    "print 'A lot of \"good\" segments have a negative ROI, maybe because the ROI becomes positive after a time longer than t'\n",
    "print 'Almost all the profitables segments are tagged \"good\", which is reassuring (466 out of 475)'"
   ]
  },
  {
   "cell_type": "code",
   "execution_count": 12,
   "metadata": {
    "collapsed": false,
    "deletable": true,
    "editable": true
   },
   "outputs": [
    {
     "name": "stdout",
     "output_type": "stream",
     "text": [
      "Positive class ratio : 0.0424691876961\n",
      "The dataset is very imbalanced, we have just a little more than 4% of positive examples\n",
      "We will have to use a method in order to deal with it (oversampling of the minority class, undersampling of the majority class or set a bigger weight on the minority class)\n"
     ]
    }
   ],
   "source": [
    "df['GoodSegment'] = np.where(df['DepositorsRate'] > 0.02, 1, 0)\n",
    "print 'Positive class ratio : %s' % (float(len(df[df['GoodSegment'] == 1])) / (len(df[df['GoodSegment'] == 0]) + len(df[df['GoodSegment'] == 1])))\n",
    "print 'The dataset is very imbalanced, we have just a little more than 4% of positive examples'\n",
    "print 'We will have to use a method in order to deal with it (oversampling of the minority class, undersampling of the majority class or set a bigger weight on the minority class)'"
   ]
  },
  {
   "cell_type": "code",
   "execution_count": 13,
   "metadata": {
    "collapsed": false,
    "deletable": true,
    "editable": true
   },
   "outputs": [
    {
     "name": "stdout",
     "output_type": "stream",
     "text": [
      "We add the eCPC (e stands for effective), eCPM and eCR (conversion rate) features\n"
     ]
    }
   ],
   "source": [
    "print 'We add the eCPC (e stands for effective), eCPM and eCR (conversion rate) features'\n",
    "df['eCPC'] = np.where(df['Clicks'] != 0, df['Spend'] / df['Clicks'], 0)\n",
    "df['eCPM'] = np.where(df['Impressions'] != 0, (df['Spend']*1000) / df['Impressions'], 0)\n",
    "df['eCR'] = np.where(df['Impressions'] != 0, df['Installs'] / df['Impressions'], 0)"
   ]
  },
  {
   "cell_type": "markdown",
   "metadata": {
    "deletable": true,
    "editable": true
   },
   "source": [
    "## SMAL GRAPHICAL EXPLORATION"
   ]
  },
  {
   "cell_type": "code",
   "execution_count": 14,
   "metadata": {
    "collapsed": false,
    "deletable": true,
    "editable": true
   },
   "outputs": [
    {
     "name": "stdout",
     "output_type": "stream",
     "text": [
      "Affiliate 1 seems to perform better than the others\n"
     ]
    },
    {
     "data": {
      "image/png": "[encoded data removed]",
      "text/plain": [
       "<matplotlib.figure.Figure at 0x10433ef90>"
      ]
     },
     "metadata": {},
     "output_type": "display_data"
    }
   ],
   "source": [
    "df.groupby(['Affiliate', 'GoodSegment']).size().unstack().plot(kind='bar',\n",
    "       title='Number of \"good\" and \"bad\" segments per affiliate', stacked=True)\n",
    "print 'Affiliate 1 seems to perform better than the others'"
   ]
  },
  {
   "cell_type": "code",
   "execution_count": 15,
   "metadata": {
    "collapsed": false,
    "deletable": true,
    "editable": true
   },
   "outputs": [
    {
     "name": "stdout",
     "output_type": "stream",
     "text": [
      "Most of the deposited ammount is made on \"good\" segments which is reassuring\n"
     ]
    },
    {
     "data": {
      "image/png": "[encoded data removed]",
      "text/plain": [
       "<matplotlib.figure.Figure at 0x1049c5250>"
      ]
     },
     "metadata": {},
     "output_type": "display_data"
    }
   ],
   "source": [
    "df.groupby(['Affiliate','GoodSegment'])['DepositAmount'].sum().unstack().plot(kind='bar',\n",
    "      title='Deposited amount per affiliate', stacked=True)\n",
    "print 'Most of the deposited ammount is made on \"good\" segments which is reassuring'"
   ]
  },
  {
   "cell_type": "code",
   "execution_count": 16,
   "metadata": {
    "collapsed": false,
    "deletable": true,
    "editable": true
   },
   "outputs": [
    {
     "name": "stdout",
     "output_type": "stream",
     "text": [
      "The average ROI is very low. We should focus our effort on affiliates with high ROI\n"
     ]
    },
    {
     "data": {
      "image/png": "[encoded data removed]",
      "text/plain": [
       "<matplotlib.figure.Figure at 0x1049bec50>"
      ]
     },
     "metadata": {},
     "output_type": "display_data"
    }
   ],
   "source": [
    "(df.groupby(['Affiliate'])['DepositAmount'].sum() / df.groupby(['Affiliate'])['Spend'].sum()).plot(\n",
    "    title='average ROI per affiliate', kind='bar')\n",
    "print 'The average ROI is very low. We should focus our effort on affiliates with high ROI'"
   ]
  },
  {
   "cell_type": "code",
   "execution_count": 17,
   "metadata": {
    "collapsed": false,
    "deletable": true,
    "editable": true
   },
   "outputs": [
    {
     "name": "stdout",
     "output_type": "stream",
     "text": [
      "We notice WW seems the value given for an unknown value\n"
     ]
    },
    {
     "data": {
      "image/png": "[encoded data removed]",
      "text/plain": [
       "<matplotlib.figure.Figure at 0x109d3b290>"
      ]
     },
     "metadata": {},
     "output_type": "display_data"
    }
   ],
   "source": [
    "df.groupby(['Country', 'GoodSegment']).size().unstack().plot(kind='bar',\n",
    "    title = 'Number of good / bad segment per country', stacked=True)\n",
    "print 'We notice WW seems the value given for an unknown value'"
   ]
  },
  {
   "cell_type": "code",
   "execution_count": 18,
   "metadata": {
    "collapsed": false,
    "deletable": true,
    "editable": true
   },
   "outputs": [
    {
     "name": "stdout",
     "output_type": "stream",
     "text": [
      "The most advertised, and perhaps the most played game is Vikings\n",
      "Terminator's campaings seems to outperfom the other games campaings\n"
     ]
    },
    {
     "data": {
      "image/png": "[encoded data removed]",
      "text/plain": [
       "<matplotlib.figure.Figure at 0x10a6511d0>"
      ]
     },
     "metadata": {},
     "output_type": "display_data"
    }
   ],
   "source": [
    "df.groupby(['Game', 'GoodSegment']).size().unstack().plot(kind='bar',\n",
    "         title = 'Number of good / bad segment per game', stacked=True)\n",
    "print 'The most advertised, and perhaps the most played game is Vikings'\n",
    "print 'Terminator\\'s campaings seems to outperfom the other games campaings'"
   ]
  },
  {
   "cell_type": "code",
   "execution_count": 19,
   "metadata": {
    "collapsed": false,
    "deletable": true,
    "editable": true
   },
   "outputs": [
    {
     "name": "stdout",
     "output_type": "stream",
     "text": [
      "Mobile platforms segments seems more profitable than web ones\n"
     ]
    },
    {
     "data": {
      "image/png": "[encoded data removed]",
      "text/plain": [
       "<matplotlib.figure.Figure at 0x10a3c6850>"
      ]
     },
     "metadata": {},
     "output_type": "display_data"
    }
   ],
   "source": [
    "df.groupby(['Platform', 'GoodSegment']).size().unstack().plot(kind='bar', \n",
    "              title = 'Number of good / bad segment per platform', stacked=True)\n",
    "print 'Mobile platforms segments seems more profitable than web ones'"
   ]
  },
  {
   "cell_type": "code",
   "execution_count": 20,
   "metadata": {
    "collapsed": false,
    "deletable": true,
    "editable": true
   },
   "outputs": [
    {
     "name": "stdout",
     "output_type": "stream",
     "text": [
      "Axes(0.125,0.125;0.775x0.775)\n",
      "The chart below shows a bias for the Spend feature.\n",
      "The more the expense is important, the more the probability the segment is good is important which should not be the case in reality\n",
      "In fact, we can spend a lot of money on a low quality segment and spend few money on a high quality one.\n"
     ]
    },
    {
     "data": {
      "image/png": "[encoded data removed]",
      "text/plain": [
       "<matplotlib.figure.Figure at 0x10aaae990>"
      ]
     },
     "metadata": {},
     "output_type": "display_data"
    }
   ],
   "source": [
    "df[\"DecileSpend\"] = pd.qcut(df['Spend'], 10, labels=False)\n",
    "print df[df['GoodSegment'] == 1].groupby(['DecileSpend']).size().plot(kind='bar', stacked=True)\n",
    "print 'The chart below shows a bias for the Spend feature.'\n",
    "print 'The more the expense is important, the more the probability the segment is good is important which should not be the case in reality'\n",
    "print 'In fact, we can spend a lot of money on a low quality segment and spend few money on a high quality one.'\n",
    "del df[\"DecileSpend\"]"
   ]
  },
  {
   "cell_type": "code",
   "execution_count": 21,
   "metadata": {
    "collapsed": false,
    "deletable": true,
    "editable": true
   },
   "outputs": [
    {
     "name": "stdout",
     "output_type": "stream",
     "text": [
      "Axes(0.125,0.125;0.775x0.775)\n",
      "The chart below is more informative than the one just above.\n",
      "We see that a higher effective CPC induces a higher \"good\" segment probability.\n",
      "This seems normal. Paying more on a click means the quality of the ad is better and the depositor rate higher.\n",
      "We could do further investigations on the CPC, trying to find its optimum, in terms of money spend and depositor rate.\n"
     ]
    },
    {
     "data": {
      "image/png": "[encoded data removed]",
      "text/plain": [
       "<matplotlib.figure.Figure at 0x110cd7a90>"
      ]
     },
     "metadata": {},
     "output_type": "display_data"
    }
   ],
   "source": [
    "df[\"DecileCPC\"] = pd.qcut(df['eCPC'], 10, labels=False)\n",
    "print df[df['GoodSegment'] == 1].groupby(['DecileCPC']).size().plot(kind='bar', stacked=True)\n",
    "print 'The chart below is more informative than the one just above.'\n",
    "print 'We see that a higher effective CPC induces a higher \"good\" segment probability.'\n",
    "print 'This seems normal. Paying more on a click means the quality of the ad is better and the depositor rate higher.'\n",
    "print 'We could do further investigations on the CPC, trying to find its optimum, in terms of money spend and depositor rate.'\n",
    "del df[\"DecileCPC\"]"
   ]
  },
  {
   "cell_type": "code",
   "execution_count": 22,
   "metadata": {
    "collapsed": false,
    "deletable": true,
    "editable": true
   },
   "outputs": [
    {
     "name": "stdout",
     "output_type": "stream",
     "text": [
      "The conversion rate is 2.5 times higher for \"good\" segments\n"
     ]
    },
    {
     "data": {
      "image/png": "[encoded data removed]",
      "text/plain": [
       "<matplotlib.figure.Figure at 0x10a90f9d0>"
      ]
     },
     "metadata": {},
     "output_type": "display_data"
    }
   ],
   "source": [
    "df.groupby(['GoodSegment'])['eCR'].mean().plot(kind='bar', \n",
    "                                               title=\"average effective conversion rate for good and bad segments\")\n",
    "\n",
    "print 'The conversion rate is 2.5 times higher for \"good\" segments'"
   ]
  },
  {
   "cell_type": "code",
   "execution_count": 23,
   "metadata": {
    "collapsed": false,
    "deletable": true,
    "editable": true
   },
   "outputs": [
    {
     "name": "stdout",
     "output_type": "stream",
     "text": [
      "We couldn't cover the specificities of the whole dataset in this analysis.\n",
      "We could extend this work in the future.\n"
     ]
    }
   ],
   "source": [
    "print 'We couldn\\'t cover the specificities of the whole dataset in this analysis.' \n",
    "print 'We could extend this work in the future.'"
   ]
  },
  {
   "cell_type": "code",
   "execution_count": 24,
   "metadata": {
    "collapsed": false,
    "deletable": true,
    "editable": true
   },
   "outputs": [
    {
     "name": "stdout",
     "output_type": "stream",
     "text": [
      "We one-hot encode the categorical features\n",
      "We create the matrix X  and the labels' vector y \n",
      "We discard these features : ['DepositorsRate','Placement', 'Depositors', 'Deposits', 'DepositAmount', 'Segment', 'Spend']\n"
     ]
    }
   ],
   "source": [
    "print 'We one-hot encode the categorical features'\n",
    "print 'We create the matrix X  and the labels\\' vector y '\n",
    "print \"We discard these features : ['DepositorsRate','Placement', 'Depositors', 'Deposits', 'DepositAmount', 'Segment', 'Spend']\"\n",
    "Xy = pd.get_dummies(df.drop(['DepositorsRate','Placement', 'Depositors', 'Deposits', 'DepositAmount', 'Segment', 'Spend'], axis=1), columns = ['Game', 'Affiliate','Platform', 'Country'])\n",
    "X = Xy.drop('GoodSegment', axis=1)\n",
    "y = Xy['GoodSegment']"
   ]
  },
  {
   "cell_type": "code",
   "execution_count": 25,
   "metadata": {
    "collapsed": false,
    "deletable": true,
    "editable": true
   },
   "outputs": [
    {
     "name": "stdout",
     "output_type": "stream",
     "text": [
      "We check the types of the variables \n",
      "\n",
      "Impressions                int64\n",
      "Clicks                     int64\n",
      "Installs                   int64\n",
      "FiveBattles                int64\n",
      "FiveLevels                 int64\n",
      "ClanJoins                  int64\n",
      "FiveMinutes                int64\n",
      "TenMinutes                 int64\n",
      "DayOneRetentions           int64\n",
      "DaySevenRetentions         int64\n",
      "DayThirtyRetentions        int64\n",
      "CTR                      float64\n",
      "eCPC                     float64\n",
      "eCPM                     float64\n",
      "eCR                      float64\n",
      "Game_Soldiers Inc        float64\n",
      "Game_Soldiers Mobile     float64\n",
      "Game_Terminator          float64\n",
      "Game_Throne              float64\n",
      "Game_Vikings             float64\n",
      "Affiliate_Affiliate 1    float64\n",
      "Affiliate_Affiliate 2    float64\n",
      "Affiliate_Affiliate 3    float64\n",
      "Affiliate_Affiliate 4    float64\n",
      "Affiliate_Affiliate 5    float64\n",
      "Affiliate_Affiliate 6    float64\n",
      "Affiliate_Affiliate 7    float64\n",
      "Platform_Android         float64\n",
      "Platform_Web             float64\n",
      "Platform_iOS             float64\n",
      "Country_Australia        float64\n",
      "Country_France           float64\n",
      "Country_Germany          float64\n",
      "Country_Russia           float64\n",
      "Country_Turkey           float64\n",
      "Country_UK               float64\n",
      "Country_US               float64\n",
      "Country_WW               float64\n",
      "dtype: object\n",
      "We check the values \n",
      "\n",
      "           Impressions        Clicks      Installs   FiveBattles  \\\n",
      "count     66613.000000  66613.000000  66613.000000  66613.000000   \n",
      "mean     135293.110984    261.418822     14.903397      0.122258   \n",
      "std      576902.289047   1029.017573     89.386374      0.956590   \n",
      "min        1850.000000      0.000000      0.000000      0.000000   \n",
      "25%        8742.000000     30.000000      0.000000      0.000000   \n",
      "50%       28409.000000     67.000000      0.000000      0.000000   \n",
      "75%       92558.000000    170.000000      6.000000      0.000000   \n",
      "max    33359343.000000  58044.000000   4762.000000     50.000000   \n",
      "\n",
      "         FiveLevels     ClanJoins   FiveMinutes    TenMinutes  \\\n",
      "count  66613.000000  66613.000000  66613.000000  66613.000000   \n",
      "mean       0.452569      0.576794      4.615586      2.974900   \n",
      "std        2.788517      2.465703     25.743232     14.521321   \n",
      "min        0.000000      0.000000      0.000000      0.000000   \n",
      "25%        0.000000      0.000000      0.000000      0.000000   \n",
      "50%        0.000000      0.000000      0.000000      0.000000   \n",
      "75%        0.000000      0.000000      2.000000      2.000000   \n",
      "max      132.000000     82.000000   1482.000000    731.000000   \n",
      "\n",
      "       DayOneRetentions  DaySevenRetentions      ...       Platform_Web  \\\n",
      "count      66613.000000        66613.000000      ...       66613.000000   \n",
      "mean           1.163346            0.262636      ...           0.474817   \n",
      "std            5.567022            1.271250      ...           0.499369   \n",
      "min            0.000000            0.000000      ...           0.000000   \n",
      "25%            0.000000            0.000000      ...           0.000000   \n",
      "50%            0.000000            0.000000      ...           0.000000   \n",
      "75%            0.000000            0.000000      ...           1.000000   \n",
      "max          230.000000           43.000000      ...           1.000000   \n",
      "\n",
      "       Platform_iOS  Country_Australia  Country_France  Country_Germany  \\\n",
      "count  66613.000000       66613.000000    66613.000000     66613.000000   \n",
      "mean       0.193326           0.004323        0.076381         0.089862   \n",
      "std        0.394909           0.065611        0.265610         0.285987   \n",
      "min        0.000000           0.000000        0.000000         0.000000   \n",
      "25%        0.000000           0.000000        0.000000         0.000000   \n",
      "50%        0.000000           0.000000        0.000000         0.000000   \n",
      "75%        0.000000           0.000000        0.000000         0.000000   \n",
      "max        1.000000           1.000000        1.000000         1.000000   \n",
      "\n",
      "       Country_Russia  Country_Turkey    Country_UK    Country_US  \\\n",
      "count    66613.000000    66613.000000  66613.000000  66613.000000   \n",
      "mean         0.097639        0.005059      0.033282      0.196268   \n",
      "std          0.296828        0.070948      0.179373      0.397177   \n",
      "min          0.000000        0.000000      0.000000      0.000000   \n",
      "25%          0.000000        0.000000      0.000000      0.000000   \n",
      "50%          0.000000        0.000000      0.000000      0.000000   \n",
      "75%          0.000000        0.000000      0.000000      0.000000   \n",
      "max          1.000000        1.000000      1.000000      1.000000   \n",
      "\n",
      "         Country_WW  \n",
      "count  66613.000000  \n",
      "mean       0.497185  \n",
      "std        0.499996  \n",
      "min        0.000000  \n",
      "25%        0.000000  \n",
      "50%        0.000000  \n",
      "75%        1.000000  \n",
      "max        1.000000  \n",
      "\n",
      "[8 rows x 38 columns]\n"
     ]
    }
   ],
   "source": [
    "print 'We check the types of the variables \\n'\n",
    "print X.dtypes\n",
    "print 'We check the values \\n'\n",
    "print X.describe()"
   ]
  },
  {
   "cell_type": "code",
   "execution_count": 97,
   "metadata": {
    "collapsed": false,
    "deletable": true,
    "editable": true
   },
   "outputs": [
    {
     "name": "stderr",
     "output_type": "stream",
     "text": [
      "/Users/mac/anaconda/lib/python2.7/json/encoder.py:207: DeprecationWarning: Interpreting naive datetime as local 2017-09-06 14:21:13.579047. Please add timezone info to timestamps.\n",
      "  chunks = self.iterencode(o, _one_shot=True)\n"
     ]
    }
   ],
   "source": [
    "# DO NOT RUN FOR TESTING\n",
    "# WITH GRADIENT BOOSTING MODEL, THIS STEP IS NOT VERY RELEVANT BECAUSE THE TREES ARE ROBUST TO UNBOUNDED VALUES \n",
    "# BUT SOMETIMES IT CAN HELP\n",
    "print 'We scale the unbounded features'\n",
    "scaler = StandardScaler()\n",
    "StandardScaler(copy = True, with_mean=True, with_std=True)\n",
    "scaler.fit_transform(X)\n",
    "toScale = ['Impressions','Clicks','Installs','FiveBattles','FiveLevels','ClanJoins','Spend',\n",
    "         'FiveMinutes','TenMinutes','DayOneRetentions','DaySevenRetentions','DayThirtyRetentions']\n",
    "X[toScale] = scaler.fit_transform(X[toScale])"
   ]
  },
  {
   "cell_type": "code",
   "execution_count": null,
   "metadata": {
    "collapsed": true,
    "deletable": true,
    "editable": true
   },
   "outputs": [],
   "source": [
    "# OLD STUFF, I was planning to do the modelisation with a regression on the DepositorsRate\n",
    "from xgboost.sklearn import XGBRegressor\n",
    "from sklearn.model_selection import cross_val_score\n",
    "reg = XGBRegressor()  # and for classifier  \n",
    "mdl = reg.fit(X_train, y_train)  \n",
    "#reg.predict(X_test)  \n",
    "np.mean(cross_val_score(reg, X_train, y_train, scoring='r2', cv=10))"
   ]
  },
  {
   "cell_type": "code",
   "execution_count": 172,
   "metadata": {
    "collapsed": false,
    "deletable": true,
    "editable": true
   },
   "outputs": [
    {
     "name": "stdout",
     "output_type": "stream",
     "text": [
      "We perform a grid search on several parameters\n",
      "The parameter scale_pos_weight is very much important in our modelisation because it allows to penalize more or less the positive class in the cost function\n"
     ]
    },
    {
     "data": {
      "text/plain": [
       "GridSearchCV(cv=StratifiedKFold(n_splits=5, random_state=22, shuffle=True),\n",
       "       error_score='raise',\n",
       "       estimator=XGBClassifier(base_score=0.5, colsample_bylevel=1, colsample_bytree=1,\n",
       "       gamma=0, learning_rate=0.1, max_delta_step=0, max_depth=3,\n",
       "       min_child_weight=1, missing=None, n_estimators=100, nthread=-1,\n",
       "       objective='binary:logistic', reg_alpha=0, reg_lambda=1,\n",
       "       scale_pos_weight=1, seed=0, silent=True, subsample=1),\n",
       "       fit_params=None, iid=True, n_jobs=1,\n",
       "       param_grid={'n_estimators': [20, 50, 100], 'scale_pos_weight': [1, 3, 5, 7, 9, 11], 'learning_rate': [0.05, 0.1], 'max_depth': [3, 4, 5]},\n",
       "       pre_dispatch='2*n_jobs', refit=True, return_train_score=True,\n",
       "       scoring='f1', verbose=0)"
      ]
     },
     "execution_count": 172,
     "metadata": {},
     "output_type": "execute_result"
    },
    {
     "name": "stderr",
     "output_type": "stream",
     "text": [
      "/Users/mac/anaconda/lib/python2.7/json/encoder.py:207: DeprecationWarning: Interpreting naive datetime as local 2017-09-06 22:47:25.805849. Please add timezone info to timestamps.\n",
      "  chunks = self.iterencode(o, _one_shot=True)\n"
     ]
    }
   ],
   "source": [
    "#DO NOT RUN FOR TESTING, IT CAN BE LONG\n",
    "print \"We perform a cross validated grid search on several parameters\"\n",
    "print \"The parameter scale_pos_weight is important in our modelisation because it allows to penalize more or less the positive (minority) class in the cost function\"\n",
    "skf = StratifiedKFold(n_splits = 5, shuffle = True, random_state = 22)\n",
    "parameters = { 'max_depth': [3,4,5], 'learning_rate':[0.05,0.1], 'n_estimators':[20,50,100], 'scale_pos_weight':[1,3,5,7,9,11]}\n",
    "gbt = XGBClassifier() \n",
    "clf = GridSearchCV(gbt, parameters, cv = skf, scoring = 'f1')\n",
    "clf.fit(X,y)"
   ]
  },
  {
   "cell_type": "code",
   "execution_count": 178,
   "metadata": {
    "collapsed": false,
    "deletable": true,
    "editable": true
   },
   "outputs": [
    {
     "name": "stdout",
     "output_type": "stream",
     "text": [
      "{'param_scale_pos_weight': masked_array(data = [1 3 5 7 9 11 1 3 5 7 9 11 1 3 5 7 9 11 1 3 5 7 9 11 1 3 5 7 9 11 1 3 5 7 9\n",
      " 11 1 3 5 7 9 11 1 3 5 7 9 11 1 3 5 7 9 11 1 3 5 7 9 11 1 3 5 7 9 11 1 3 5\n",
      " 7 9 11 1 3 5 7 9 11 1 3 5 7 9 11 1 3 5 7 9 11 1 3 5 7 9 11 1 3 5 7 9 11 1\n",
      " 3 5 7 9 11],\n",
      "             mask = [False False False False False False False False False False False False\n",
      " False False False False False False False False False False False False\n",
      " False False False False False False False False False False False False\n",
      " False False False False False False False False False False False False\n",
      " False False False False False False False False False False False False\n",
      " False False False False False False False False False False False False\n",
      " False False False False False False False False False False False False\n",
      " False False False False False False False False False False False False\n",
      " False False False False False False False False False False False False],\n",
      "       fill_value = ?)\n",
      ", 'rank_test_score': array([107,  57,  43,  67,  83,  89, 106,  53,  40,  63,  80,  88, 104,\n",
      "        31,  25,  51,  72,  82, 105,  48,  38,  69,  77,  87, 101,  28,\n",
      "        30,  50,  71,  84,  97,  12,  19,  36,  56,  73, 100,  26,  22,\n",
      "        47,  62,  85,  98,  16,  13,  39,  55,  74,  94,   4,   7,  21,\n",
      "        45,  65, 107,  54,  35,  68,  79,  90, 103,  29,  24,  49,  70,\n",
      "        81,  95,   9,  10,  27,  46,  66, 102,  33,  32,  60,  76,  86,\n",
      "        96,  11,  14,  37,  61,  75,  92,   5,   6,  20,  42,  58,  99,\n",
      "        18,  17,  41,  59,  78,  93,   2,   8,  23,  44,  64,  91,   1,\n",
      "         3,  15,  34,  52], dtype=int32), 'split0_train_score': array([ 0.        ,  0.42570779,  0.44508857,  0.41392453,  0.39627474,\n",
      "        0.3764634 ,  0.        ,  0.43522873,  0.44562833,  0.42465753,\n",
      "        0.40053703,  0.38090432,  0.09252375,  0.46012645,  0.46317144,\n",
      "        0.4452102 ,  0.41197659,  0.40025016,  0.04381443,  0.4341971 ,\n",
      "        0.46053469,  0.41855422,  0.40409663,  0.39513548,  0.14065587,\n",
      "        0.46435763,  0.46777813,  0.44351038,  0.41844951,  0.39944254,\n",
      "        0.23602484,  0.48913043,  0.4853792 ,  0.46175896,  0.43475243,\n",
      "        0.41341016,  0.22008863,  0.47943641,  0.47253086,  0.45074017,\n",
      "        0.42657498,  0.40687621,  0.22750929,  0.50538688,  0.49363552,\n",
      "        0.45968865,  0.4353879 ,  0.42168675,  0.3042273 ,  0.53793906,\n",
      "        0.51504397,  0.48535454,  0.45484247,  0.43580529,  0.        ,\n",
      "        0.42554085,  0.44578889,  0.41576605,  0.39770733,  0.35096844,\n",
      "        0.10081967,  0.4552208 ,  0.4650641 ,  0.44243173,  0.41288864,\n",
      "        0.4000841 ,  0.26120996,  0.49588766,  0.49150409,  0.48010753,\n",
      "        0.44782097,  0.42360515,  0.11210398,  0.45521644,  0.46705806,\n",
      "        0.43147081,  0.41434896,  0.39816298,  0.23731289,  0.48920863,\n",
      "        0.48752941,  0.46169799,  0.43395795,  0.41606306,  0.34739618,\n",
      "        0.53525578,  0.51384998,  0.49056604,  0.46104207,  0.44290503,\n",
      "        0.20281048,  0.4947121 ,  0.48909895,  0.45563549,  0.43541762,\n",
      "        0.40219342,  0.30419821,  0.53788317,  0.51496452,  0.48577101,\n",
      "        0.45723646,  0.43458401,  0.41390306,  0.57170732,  0.54568408,\n",
      "        0.51949129,  0.48605283,  0.46499827]), 'split2_test_score': array([ 0.        ,  0.42539159,  0.43363363,  0.40998959,  0.38465095,\n",
      "        0.3709606 ,  0.        ,  0.43      ,  0.45310436,  0.4054326 ,\n",
      "        0.39352072,  0.38216561,  0.06091371,  0.45771144,  0.45244216,\n",
      "        0.41981886,  0.40843091,  0.39896819,  0.08278146,  0.43654002,\n",
      "        0.43982357,  0.41489362,  0.40493601,  0.39126712,  0.11111111,\n",
      "        0.44497608,  0.44825397,  0.41985522,  0.40575673,  0.39686684,\n",
      "        0.19224806,  0.46698873,  0.45409429,  0.43723849,  0.42577031,\n",
      "        0.40474174,  0.1197411 ,  0.44635865,  0.45825716,  0.43195876,\n",
      "        0.42475387,  0.40217391,  0.20091324,  0.46581876,  0.46406821,\n",
      "        0.44105691,  0.4316613 ,  0.40734558,  0.25641026,  0.47891806,\n",
      "        0.47371601,  0.45468669,  0.43490566,  0.41601393,  0.        ,\n",
      "        0.43543046,  0.44660194,  0.40240843,  0.39592431,  0.37871806,\n",
      "        0.07394958,  0.45714286,  0.4525641 ,  0.41914894,  0.4113806 ,\n",
      "        0.39948564,  0.2127031 ,  0.48171701,  0.46026701,  0.45099089,\n",
      "        0.43764931,  0.4218406 ,  0.11669368,  0.43937008,  0.44805195,\n",
      "        0.41624875,  0.40164684,  0.39136069,  0.20121951,  0.46811945,\n",
      "        0.45448916,  0.4375    ,  0.41973011,  0.40317859,  0.28493151,\n",
      "        0.4884646 ,  0.47123623,  0.45828933,  0.43598287,  0.41852182,\n",
      "        0.16875   ,  0.45660672,  0.46371464,  0.43615935,  0.4244671 ,\n",
      "        0.40886288,  0.25604552,  0.47929936,  0.46994536,  0.44968553,\n",
      "        0.43655303,  0.41976388,  0.3060686 ,  0.51070579,  0.48759305,\n",
      "        0.46389497,  0.44280079,  0.42778289]), 'mean_fit_time': array([ 1.21217604,  1.18351479,  1.21377859,  1.24963589,  1.21959558,\n",
      "        1.21940851,  2.76566362,  2.89663301,  2.76039238,  2.77155499,\n",
      "        2.73769908,  2.77139077,  5.37511377,  5.4569171 ,  5.3932404 ,\n",
      "        5.35252938,  5.39689097,  5.44880657,  1.52490768,  1.52098365,\n",
      "        1.50103512,  1.51192107,  1.51241584,  1.516993  ,  3.48642874,\n",
      "        3.5331811 ,  3.63356581,  3.65930862,  3.62343721,  3.59978237,\n",
      "        6.96016693,  7.14671979,  7.14797206,  7.05172439,  7.15210218,\n",
      "        7.20514359,  1.84842   ,  1.87314301,  1.85402937,  1.86376338,\n",
      "        1.88020515,  1.85430422,  4.47054214,  4.52403502,  4.51161189,\n",
      "        4.46033125,  4.46085219,  4.55634856,  8.88473959,  8.8444344 ,\n",
      "        8.98015723,  9.00594664,  8.86910419,  9.08715496,  1.19978023,\n",
      "        1.20633307,  1.21368833,  1.20237422,  1.19190917,  1.19699183,\n",
      "        2.74777141,  2.75043201,  2.80607896,  2.83120346,  2.83068843,\n",
      "        2.80667739,  5.32066245,  5.31062336,  5.36019254,  5.40648861,\n",
      "        5.31807179,  5.27808719,  1.50665083,  1.5133296 ,  1.53858237,\n",
      "        1.55815177,  1.55544481,  1.57158256,  3.63941536,  3.64440579,\n",
      "        3.61346216,  3.62660122,  3.62777138,  3.72653222,  7.07167025,\n",
      "        7.01349788,  7.01164994,  7.131319  ,  7.00441456,  6.99118695,\n",
      "        1.89661298,  1.90361838,  1.923634  ,  1.92779627,  1.9227252 ,\n",
      "        1.90571747,  4.45625377,  4.47843466,  4.54429584,  4.63359256,\n",
      "        4.59644885,  4.54325404,  8.79613376,  8.95370135,  8.7896554 ,\n",
      "        8.91757722,  8.86739225,  8.73287058]), 'split3_train_score': array([ 0.        ,  0.42455775,  0.44493185,  0.42004834,  0.40573425,\n",
      "        0.38571748,  0.0453573 ,  0.45454545,  0.45149195,  0.4220444 ,\n",
      "        0.40987357,  0.38528093,  0.09030655,  0.46778043,  0.46383393,\n",
      "        0.43955747,  0.42015186,  0.40100671,  0.10711365,  0.4444889 ,\n",
      "        0.45708744,  0.41397154,  0.40449438,  0.39653698,  0.1678974 ,\n",
      "        0.47798026,  0.46652549,  0.4402532 ,  0.41887838,  0.40312567,\n",
      "        0.24455733,  0.49239281,  0.48608   ,  0.46460409,  0.44054085,\n",
      "        0.41673658,  0.21048717,  0.47840152,  0.47587253,  0.45948423,\n",
      "        0.44291385,  0.40545145,  0.24686809,  0.49557862,  0.4902439 ,\n",
      "        0.46807415,  0.45052632,  0.42417187,  0.31720802,  0.53418063,\n",
      "        0.5170255 ,  0.48933068,  0.46411083,  0.44035088,  0.        ,\n",
      "        0.45679249,  0.44971716,  0.42204684,  0.40797693,  0.34964266,\n",
      "        0.08875985,  0.46727877,  0.46604442,  0.44019009,  0.41821366,\n",
      "        0.40134765,  0.28711485,  0.50338511,  0.48767211,  0.47760786,\n",
      "        0.45392938,  0.4261658 ,  0.12807088,  0.47103951,  0.46072289,\n",
      "        0.43063697,  0.41033708,  0.39936   ,  0.25596529,  0.49209486,\n",
      "        0.48412449,  0.46619123,  0.43875304,  0.41880705,  0.35094716,\n",
      "        0.53045031,  0.51680543,  0.49184274,  0.46245673,  0.44358321,\n",
      "        0.21611446,  0.49470499,  0.48642846,  0.46316878,  0.45511132,\n",
      "        0.42093072,  0.30483532,  0.53469152,  0.5161785 ,  0.4899143 ,\n",
      "        0.4650102 ,  0.43990332,  0.40888603,  0.57673698,  0.54480509,\n",
      "        0.51800137,  0.490859  ,  0.47109257]), 'std_test_score': array([ 0.        ,  0.00402459,  0.01116554,  0.00800576,  0.0070263 ,\n",
      "        0.00803059,  0.01241351,  0.0029687 ,  0.01148855,  0.01100799,\n",
      "        0.0066386 ,  0.00307377,  0.00632726,  0.01161762,  0.0141398 ,\n",
      "        0.01097303,  0.00796741,  0.00552767,  0.02464514,  0.00594836,\n",
      "        0.01632378,  0.00779851,  0.00716527,  0.00329632,  0.01351033,\n",
      "        0.0062893 ,  0.01174689,  0.00991172,  0.00650647,  0.00488821,\n",
      "        0.01794851,  0.01120444,  0.01250897,  0.01095271,  0.00517344,\n",
      "        0.00409968,  0.03715759,  0.00779173,  0.01434067,  0.0060683 ,\n",
      "        0.00648822,  0.00749906,  0.01877491,  0.00926821,  0.00895946,\n",
      "        0.00456952,  0.00516123,  0.00478219,  0.00496518,  0.00586175,\n",
      "        0.01214643,  0.00598406,  0.00254943,  0.00229393,  0.        ,\n",
      "        0.00611226,  0.01195265,  0.00978937,  0.00544862,  0.01322407,\n",
      "        0.00840662,  0.01249332,  0.01343342,  0.01326532,  0.00855798,\n",
      "        0.00557989,  0.01217274,  0.01698777,  0.01403847,  0.00980707,\n",
      "        0.00736307,  0.00699271,  0.01654845,  0.00531312,  0.01274774,\n",
      "        0.01018043,  0.00593559,  0.00342106,  0.02568529,  0.00883446,\n",
      "        0.01456829,  0.0096622 ,  0.00717393,  0.00416667,  0.01067556,\n",
      "        0.01572948,  0.014845  ,  0.00718487,  0.00499388,  0.00435308,\n",
      "        0.01380862,  0.00892611,  0.00792052,  0.00615547,  0.00210066,\n",
      "        0.0064235 ,  0.01156478,  0.01020518,  0.0099538 ,  0.00736176,\n",
      "        0.00375197,  0.00379526,  0.01649937,  0.01326456,  0.01013527,\n",
      "        0.00628887,  0.00501546,  0.00266028]), 'params': [{'n_estimators': 20, 'scale_pos_weight': 1, 'learning_rate': 0.05, 'max_depth': 3}, {'n_estimators': 20, 'scale_pos_weight': 3, 'learning_rate': 0.05, 'max_depth': 3}, {'n_estimators': 20, 'scale_pos_weight': 5, 'learning_rate': 0.05, 'max_depth': 3}, {'n_estimators': 20, 'scale_pos_weight': 7, 'learning_rate': 0.05, 'max_depth': 3}, {'n_estimators': 20, 'scale_pos_weight': 9, 'learning_rate': 0.05, 'max_depth': 3}, {'n_estimators': 20, 'scale_pos_weight': 11, 'learning_rate': 0.05, 'max_depth': 3}, {'n_estimators': 50, 'scale_pos_weight': 1, 'learning_rate': 0.05, 'max_depth': 3}, {'n_estimators': 50, 'scale_pos_weight': 3, 'learning_rate': 0.05, 'max_depth': 3}, {'n_estimators': 50, 'scale_pos_weight': 5, 'learning_rate': 0.05, 'max_depth': 3}, {'n_estimators': 50, 'scale_pos_weight': 7, 'learning_rate': 0.05, 'max_depth': 3}, {'n_estimators': 50, 'scale_pos_weight': 9, 'learning_rate': 0.05, 'max_depth': 3}, {'n_estimators': 50, 'scale_pos_weight': 11, 'learning_rate': 0.05, 'max_depth': 3}, {'n_estimators': 100, 'scale_pos_weight': 1, 'learning_rate': 0.05, 'max_depth': 3}, {'n_estimators': 100, 'scale_pos_weight': 3, 'learning_rate': 0.05, 'max_depth': 3}, {'n_estimators': 100, 'scale_pos_weight': 5, 'learning_rate': 0.05, 'max_depth': 3}, {'n_estimators': 100, 'scale_pos_weight': 7, 'learning_rate': 0.05, 'max_depth': 3}, {'n_estimators': 100, 'scale_pos_weight': 9, 'learning_rate': 0.05, 'max_depth': 3}, {'n_estimators': 100, 'scale_pos_weight': 11, 'learning_rate': 0.05, 'max_depth': 3}, {'n_estimators': 20, 'scale_pos_weight': 1, 'learning_rate': 0.05, 'max_depth': 4}, {'n_estimators': 20, 'scale_pos_weight': 3, 'learning_rate': 0.05, 'max_depth': 4}, {'n_estimators': 20, 'scale_pos_weight': 5, 'learning_rate': 0.05, 'max_depth': 4}, {'n_estimators': 20, 'scale_pos_weight': 7, 'learning_rate': 0.05, 'max_depth': 4}, {'n_estimators': 20, 'scale_pos_weight': 9, 'learning_rate': 0.05, 'max_depth': 4}, {'n_estimators': 20, 'scale_pos_weight': 11, 'learning_rate': 0.05, 'max_depth': 4}, {'n_estimators': 50, 'scale_pos_weight': 1, 'learning_rate': 0.05, 'max_depth': 4}, {'n_estimators': 50, 'scale_pos_weight': 3, 'learning_rate': 0.05, 'max_depth': 4}, {'n_estimators': 50, 'scale_pos_weight': 5, 'learning_rate': 0.05, 'max_depth': 4}, {'n_estimators': 50, 'scale_pos_weight': 7, 'learning_rate': 0.05, 'max_depth': 4}, {'n_estimators': 50, 'scale_pos_weight': 9, 'learning_rate': 0.05, 'max_depth': 4}, {'n_estimators': 50, 'scale_pos_weight': 11, 'learning_rate': 0.05, 'max_depth': 4}, {'n_estimators': 100, 'scale_pos_weight': 1, 'learning_rate': 0.05, 'max_depth': 4}, {'n_estimators': 100, 'scale_pos_weight': 3, 'learning_rate': 0.05, 'max_depth': 4}, {'n_estimators': 100, 'scale_pos_weight': 5, 'learning_rate': 0.05, 'max_depth': 4}, {'n_estimators': 100, 'scale_pos_weight': 7, 'learning_rate': 0.05, 'max_depth': 4}, {'n_estimators': 100, 'scale_pos_weight': 9, 'learning_rate': 0.05, 'max_depth': 4}, {'n_estimators': 100, 'scale_pos_weight': 11, 'learning_rate': 0.05, 'max_depth': 4}, {'n_estimators': 20, 'scale_pos_weight': 1, 'learning_rate': 0.05, 'max_depth': 5}, {'n_estimators': 20, 'scale_pos_weight': 3, 'learning_rate': 0.05, 'max_depth': 5}, {'n_estimators': 20, 'scale_pos_weight': 5, 'learning_rate': 0.05, 'max_depth': 5}, {'n_estimators': 20, 'scale_pos_weight': 7, 'learning_rate': 0.05, 'max_depth': 5}, {'n_estimators': 20, 'scale_pos_weight': 9, 'learning_rate': 0.05, 'max_depth': 5}, {'n_estimators': 20, 'scale_pos_weight': 11, 'learning_rate': 0.05, 'max_depth': 5}, {'n_estimators': 50, 'scale_pos_weight': 1, 'learning_rate': 0.05, 'max_depth': 5}, {'n_estimators': 50, 'scale_pos_weight': 3, 'learning_rate': 0.05, 'max_depth': 5}, {'n_estimators': 50, 'scale_pos_weight': 5, 'learning_rate': 0.05, 'max_depth': 5}, {'n_estimators': 50, 'scale_pos_weight': 7, 'learning_rate': 0.05, 'max_depth': 5}, {'n_estimators': 50, 'scale_pos_weight': 9, 'learning_rate': 0.05, 'max_depth': 5}, {'n_estimators': 50, 'scale_pos_weight': 11, 'learning_rate': 0.05, 'max_depth': 5}, {'n_estimators': 100, 'scale_pos_weight': 1, 'learning_rate': 0.05, 'max_depth': 5}, {'n_estimators': 100, 'scale_pos_weight': 3, 'learning_rate': 0.05, 'max_depth': 5}, {'n_estimators': 100, 'scale_pos_weight': 5, 'learning_rate': 0.05, 'max_depth': 5}, {'n_estimators': 100, 'scale_pos_weight': 7, 'learning_rate': 0.05, 'max_depth': 5}, {'n_estimators': 100, 'scale_pos_weight': 9, 'learning_rate': 0.05, 'max_depth': 5}, {'n_estimators': 100, 'scale_pos_weight': 11, 'learning_rate': 0.05, 'max_depth': 5}, {'n_estimators': 20, 'scale_pos_weight': 1, 'learning_rate': 0.1, 'max_depth': 3}, {'n_estimators': 20, 'scale_pos_weight': 3, 'learning_rate': 0.1, 'max_depth': 3}, {'n_estimators': 20, 'scale_pos_weight': 5, 'learning_rate': 0.1, 'max_depth': 3}, {'n_estimators': 20, 'scale_pos_weight': 7, 'learning_rate': 0.1, 'max_depth': 3}, {'n_estimators': 20, 'scale_pos_weight': 9, 'learning_rate': 0.1, 'max_depth': 3}, {'n_estimators': 20, 'scale_pos_weight': 11, 'learning_rate': 0.1, 'max_depth': 3}, {'n_estimators': 50, 'scale_pos_weight': 1, 'learning_rate': 0.1, 'max_depth': 3}, {'n_estimators': 50, 'scale_pos_weight': 3, 'learning_rate': 0.1, 'max_depth': 3}, {'n_estimators': 50, 'scale_pos_weight': 5, 'learning_rate': 0.1, 'max_depth': 3}, {'n_estimators': 50, 'scale_pos_weight': 7, 'learning_rate': 0.1, 'max_depth': 3}, {'n_estimators': 50, 'scale_pos_weight': 9, 'learning_rate': 0.1, 'max_depth': 3}, {'n_estimators': 50, 'scale_pos_weight': 11, 'learning_rate': 0.1, 'max_depth': 3}, {'n_estimators': 100, 'scale_pos_weight': 1, 'learning_rate': 0.1, 'max_depth': 3}, {'n_estimators': 100, 'scale_pos_weight': 3, 'learning_rate': 0.1, 'max_depth': 3}, {'n_estimators': 100, 'scale_pos_weight': 5, 'learning_rate': 0.1, 'max_depth': 3}, {'n_estimators': 100, 'scale_pos_weight': 7, 'learning_rate': 0.1, 'max_depth': 3}, {'n_estimators': 100, 'scale_pos_weight': 9, 'learning_rate': 0.1, 'max_depth': 3}, {'n_estimators': 100, 'scale_pos_weight': 11, 'learning_rate': 0.1, 'max_depth': 3}, {'n_estimators': 20, 'scale_pos_weight': 1, 'learning_rate': 0.1, 'max_depth': 4}, {'n_estimators': 20, 'scale_pos_weight': 3, 'learning_rate': 0.1, 'max_depth': 4}, {'n_estimators': 20, 'scale_pos_weight': 5, 'learning_rate': 0.1, 'max_depth': 4}, {'n_estimators': 20, 'scale_pos_weight': 7, 'learning_rate': 0.1, 'max_depth': 4}, {'n_estimators': 20, 'scale_pos_weight': 9, 'learning_rate': 0.1, 'max_depth': 4}, {'n_estimators': 20, 'scale_pos_weight': 11, 'learning_rate': 0.1, 'max_depth': 4}, {'n_estimators': 50, 'scale_pos_weight': 1, 'learning_rate': 0.1, 'max_depth': 4}, {'n_estimators': 50, 'scale_pos_weight': 3, 'learning_rate': 0.1, 'max_depth': 4}, {'n_estimators': 50, 'scale_pos_weight': 5, 'learning_rate': 0.1, 'max_depth': 4}, {'n_estimators': 50, 'scale_pos_weight': 7, 'learning_rate': 0.1, 'max_depth': 4}, {'n_estimators': 50, 'scale_pos_weight': 9, 'learning_rate': 0.1, 'max_depth': 4}, {'n_estimators': 50, 'scale_pos_weight': 11, 'learning_rate': 0.1, 'max_depth': 4}, {'n_estimators': 100, 'scale_pos_weight': 1, 'learning_rate': 0.1, 'max_depth': 4}, {'n_estimators': 100, 'scale_pos_weight': 3, 'learning_rate': 0.1, 'max_depth': 4}, {'n_estimators': 100, 'scale_pos_weight': 5, 'learning_rate': 0.1, 'max_depth': 4}, {'n_estimators': 100, 'scale_pos_weight': 7, 'learning_rate': 0.1, 'max_depth': 4}, {'n_estimators': 100, 'scale_pos_weight': 9, 'learning_rate': 0.1, 'max_depth': 4}, {'n_estimators': 100, 'scale_pos_weight': 11, 'learning_rate': 0.1, 'max_depth': 4}, {'n_estimators': 20, 'scale_pos_weight': 1, 'learning_rate': 0.1, 'max_depth': 5}, {'n_estimators': 20, 'scale_pos_weight': 3, 'learning_rate': 0.1, 'max_depth': 5}, {'n_estimators': 20, 'scale_pos_weight': 5, 'learning_rate': 0.1, 'max_depth': 5}, {'n_estimators': 20, 'scale_pos_weight': 7, 'learning_rate': 0.1, 'max_depth': 5}, {'n_estimators': 20, 'scale_pos_weight': 9, 'learning_rate': 0.1, 'max_depth': 5}, {'n_estimators': 20, 'scale_pos_weight': 11, 'learning_rate': 0.1, 'max_depth': 5}, {'n_estimators': 50, 'scale_pos_weight': 1, 'learning_rate': 0.1, 'max_depth': 5}, {'n_estimators': 50, 'scale_pos_weight': 3, 'learning_rate': 0.1, 'max_depth': 5}, {'n_estimators': 50, 'scale_pos_weight': 5, 'learning_rate': 0.1, 'max_depth': 5}, {'n_estimators': 50, 'scale_pos_weight': 7, 'learning_rate': 0.1, 'max_depth': 5}, {'n_estimators': 50, 'scale_pos_weight': 9, 'learning_rate': 0.1, 'max_depth': 5}, {'n_estimators': 50, 'scale_pos_weight': 11, 'learning_rate': 0.1, 'max_depth': 5}, {'n_estimators': 100, 'scale_pos_weight': 1, 'learning_rate': 0.1, 'max_depth': 5}, {'n_estimators': 100, 'scale_pos_weight': 3, 'learning_rate': 0.1, 'max_depth': 5}, {'n_estimators': 100, 'scale_pos_weight': 5, 'learning_rate': 0.1, 'max_depth': 5}, {'n_estimators': 100, 'scale_pos_weight': 7, 'learning_rate': 0.1, 'max_depth': 5}, {'n_estimators': 100, 'scale_pos_weight': 9, 'learning_rate': 0.1, 'max_depth': 5}, {'n_estimators': 100, 'scale_pos_weight': 11, 'learning_rate': 0.1, 'max_depth': 5}], 'std_fit_time': array([ 0.07119066,  0.01158025,  0.02989629,  0.04349983,  0.02173646,\n",
      "        0.02713564,  0.01120908,  0.09061105,  0.03113461,  0.05895381,\n",
      "        0.01295544,  0.01948886,  0.05361906,  0.01864078,  0.02370835,\n",
      "        0.02044336,  0.02114146,  0.02728732,  0.00608935,  0.01108233,\n",
      "        0.01177238,  0.01558234,  0.01097376,  0.01506549,  0.01079223,\n",
      "        0.02328527,  0.01697965,  0.01822383,  0.03692519,  0.02155377,\n",
      "        0.03085266,  0.08434522,  0.04089018,  0.02965164,  0.07814361,\n",
      "        0.04121453,  0.01109761,  0.02100892,  0.01339895,  0.02933971,\n",
      "        0.01180922,  0.00800221,  0.04202679,  0.02434006,  0.02457973,\n",
      "        0.02412306,  0.01408947,  0.05495945,  0.04992826,  0.02909165,\n",
      "        0.08530514,  0.15166286,  0.03157713,  0.06617008,  0.00806645,\n",
      "        0.01234265,  0.02497962,  0.00707249,  0.0128389 ,  0.0103375 ,\n",
      "        0.01311489,  0.01496684,  0.03504116,  0.00961624,  0.01515218,\n",
      "        0.02636666,  0.08409816,  0.03297476,  0.04843318,  0.03761401,\n",
      "        0.03091392,  0.02291818,  0.01383943,  0.01436658,  0.01416455,\n",
      "        0.01052189,  0.00716973,  0.00992727,  0.02332595,  0.01727712,\n",
      "        0.0333984 ,  0.01977225,  0.02786159,  0.0536021 ,  0.0400479 ,\n",
      "        0.05777814,  0.07493735,  0.03082019,  0.04198409,  0.02307459,\n",
      "        0.02203657,  0.01445001,  0.01633171,  0.01060912,  0.01505795,\n",
      "        0.01192307,  0.03276402,  0.01191391,  0.04189444,  0.03075081,\n",
      "        0.01762782,  0.03079209,  0.05873068,  0.03624671,  0.02902554,\n",
      "        0.08919767,  0.04416907,  0.03794426]), 'std_score_time': array([ 0.00077808,  0.00060673,  0.00059093,  0.01199096,  0.00110575,\n",
      "        0.00081748,  0.00034431,  0.00135702,  0.00096557,  0.00089368,\n",
      "        0.00095464,  0.00072097,  0.00222781,  0.00042678,  0.00104359,\n",
      "        0.00097966,  0.00131216,  0.00089037,  0.00988118,  0.0005327 ,\n",
      "        0.00096554,  0.00068322,  0.0005082 ,  0.00119338,  0.00073494,\n",
      "        0.00074196,  0.00127674,  0.00040081,  0.00108735,  0.00105915,\n",
      "        0.00214255,  0.00176844,  0.00112651,  0.00357771,  0.0020648 ,\n",
      "        0.00109539,  0.00065219,  0.00109586,  0.00086173,  0.00096288,\n",
      "        0.00098068,  0.00086954,  0.00146356,  0.00105434,  0.00127121,\n",
      "        0.00133609,  0.00150253,  0.00180577,  0.0015732 ,  0.00202404,\n",
      "        0.00156751,  0.00107721,  0.00158915,  0.00241449,  0.00073575,\n",
      "        0.00065782,  0.00133389,  0.00058266,  0.00071279,  0.00232549,\n",
      "        0.00071962,  0.00106409,  0.00059101,  0.00118441,  0.00049984,\n",
      "        0.00138533,  0.00114469,  0.00180479,  0.00080941,  0.00082696,\n",
      "        0.00235254,  0.00208438,  0.00091149,  0.00076781,  0.00059811,\n",
      "        0.00081473,  0.00076148,  0.00100661,  0.00134453,  0.00069045,\n",
      "        0.00095932,  0.0008626 ,  0.00109989,  0.00054555,  0.00157217,\n",
      "        0.00337636,  0.00093131,  0.00101436,  0.00051652,  0.00088648,\n",
      "        0.00126428,  0.00057938,  0.00129694,  0.00111445,  0.00088721,\n",
      "        0.00105163,  0.0016095 ,  0.0006823 ,  0.00145586,  0.00049895,\n",
      "        0.00153319,  0.00046555,  0.00182309,  0.0016122 ,  0.0009548 ,\n",
      "        0.00126736,  0.00081974,  0.00237333]), 'std_train_score': array([ 0.        ,  0.00185562,  0.00652788,  0.00332212,  0.00560514,\n",
      "        0.00328096,  0.01814292,  0.01179081,  0.00609842,  0.00423518,\n",
      "        0.00581988,  0.00790186,  0.01081615,  0.00513149,  0.00384463,\n",
      "        0.0063618 ,  0.00396476,  0.00305278,  0.02521101,  0.00493324,\n",
      "        0.00462555,  0.00529509,  0.00365616,  0.00353676,  0.01572631,\n",
      "        0.00800423,  0.00561095,  0.00351112,  0.00160709,  0.00286768,\n",
      "        0.01363412,  0.00228108,  0.0048768 ,  0.00448261,  0.00340364,\n",
      "        0.00152542,  0.03643005,  0.00559598,  0.0034801 ,  0.00690863,\n",
      "        0.00839449,  0.00639369,  0.02231682,  0.00617516,  0.0037973 ,\n",
      "        0.00405086,  0.00591591,  0.0040873 ,  0.01318022,  0.00426987,\n",
      "        0.00437619,  0.00426253,  0.00395095,  0.003322  ,  0.        ,\n",
      "        0.01345313,  0.00437392,  0.00345869,  0.00629043,  0.01350694,\n",
      "        0.0104348 ,  0.00539545,  0.00487623,  0.00439428,  0.00253159,\n",
      "        0.00362518,  0.01038509,  0.00683368,  0.00380836,  0.00446417,\n",
      "        0.0024582 ,  0.00321974,  0.01308424,  0.00716819,  0.00637951,\n",
      "        0.00310863,  0.00281603,  0.00370618,  0.01557239,  0.00284648,\n",
      "        0.00369008,  0.00330281,  0.0032801 ,  0.00225994,  0.01632741,\n",
      "        0.00199813,  0.00135817,  0.00249165,  0.00098191,  0.0023346 ,\n",
      "        0.01629401,  0.00349878,  0.00425872,  0.00449132,  0.00891289,\n",
      "        0.00750073,  0.00798493,  0.00491641,  0.00384088,  0.00323718,\n",
      "        0.0034712 ,  0.00333398,  0.01344539,  0.00356976,  0.00334342,\n",
      "        0.00439456,  0.00340399,  0.00326247]), 'split4_test_score': array([ 0.        ,  0.43003413,  0.4527584 ,  0.42668137,  0.40407785,\n",
      "        0.39187996,  0.        ,  0.42429577,  0.45563247,  0.43237705,\n",
      "        0.40892193,  0.37357452,  0.07628524,  0.47215295,  0.47984395,\n",
      "        0.45013333,  0.41933984,  0.4025    ,  0.05102041,  0.44244898,\n",
      "        0.472     ,  0.41242938,  0.39773716,  0.38865721,  0.1341853 ,\n",
      "        0.4601479 ,  0.46899225,  0.44721789,  0.42158672,  0.39585921,\n",
      "        0.19306184,  0.48103309,  0.48537648,  0.46379853,  0.43253235,\n",
      "        0.41019215,  0.11935484,  0.4691358 ,  0.48138958,  0.44547804,\n",
      "        0.4241573 ,  0.38396299,  0.16037736,  0.46960866,  0.48123077,\n",
      "        0.45105074,  0.42857143,  0.40542763,  0.2553802 ,  0.49300156,\n",
      "        0.49969382,  0.46822034,  0.43758899,  0.41305281,  0.        ,\n",
      "        0.42857143,  0.456743  ,  0.42741117,  0.40816327,  0.35419735,\n",
      "        0.08609272,  0.4746045 ,  0.47859922,  0.45612134,  0.42461249,\n",
      "        0.40364691,  0.22125182,  0.50519584,  0.49061489,  0.47184987,\n",
      "        0.44582934,  0.42279252,  0.12121212,  0.45447088,  0.46437659,\n",
      "        0.44201768,  0.41126509,  0.39050348,  0.18731118,  0.48215702,\n",
      "        0.48919086,  0.46137677,  0.42962282,  0.40933722,  0.29436039,\n",
      "        0.50903378,  0.49938348,  0.47247461,  0.44842615,  0.42628774,\n",
      "        0.15649452,  0.46955128,  0.47781155,  0.45033113,  0.41976428,\n",
      "        0.39903653,  0.25925926,  0.49806051,  0.49357012,  0.46815287,\n",
      "        0.44116246,  0.41588386,  0.31550802,  0.50352941,  0.50155958,\n",
      "        0.47524752,  0.45603577,  0.43386728]), 'param_max_depth': masked_array(data = [3 3 3 3 3 3 3 3 3 3 3 3 3 3 3 3 3 3 4 4 4 4 4 4 4 4 4 4 4 4 4 4 4 4 4 4 5\n",
      " 5 5 5 5 5 5 5 5 5 5 5 5 5 5 5 5 5 3 3 3 3 3 3 3 3 3 3 3 3 3 3 3 3 3 3 4 4\n",
      " 4 4 4 4 4 4 4 4 4 4 4 4 4 4 4 4 5 5 5 5 5 5 5 5 5 5 5 5 5 5 5 5 5 5],\n",
      "             mask = [False False False False False False False False False False False False\n",
      " False False False False False False False False False False False False\n",
      " False False False False False False False False False False False False\n",
      " False False False False False False False False False False False False\n",
      " False False False False False False False False False False False False\n",
      " False False False False False False False False False False False False\n",
      " False False False False False False False False False False False False\n",
      " False False False False False False False False False False False False\n",
      " False False False False False False False False False False False False],\n",
      "       fill_value = ?)\n",
      ", 'split1_train_score': array([ 0.        ,  0.42547979,  0.45005817,  0.41460631,  0.40128449,\n",
      "        0.37763441,  0.        ,  0.43050275,  0.44825436,  0.4161005 ,\n",
      "        0.39934686,  0.38221577,  0.06263225,  0.45996314,  0.45653214,\n",
      "        0.43631509,  0.41061743,  0.39687174,  0.04796574,  0.43390515,\n",
      "        0.45053174,  0.41874122,  0.40754039,  0.38820843,  0.12735282,\n",
      "        0.46473674,  0.4592261 ,  0.43520782,  0.41837687,  0.40084656,\n",
      "        0.21565731,  0.48778534,  0.47337466,  0.4537399 ,  0.43386243,\n",
      "        0.41795764,  0.19626866,  0.46463462,  0.47003632,  0.43949612,\n",
      "        0.41846694,  0.41272862,  0.18376723,  0.49543778,  0.48862938,\n",
      "        0.45550528,  0.43477275,  0.42022852,  0.28105039,  0.52534743,\n",
      "        0.50763126,  0.4768913 ,  0.45384436,  0.43348898,  0.        ,\n",
      "        0.42093878,  0.45363908,  0.4154577 ,  0.39882698,  0.35064457,\n",
      "        0.0706476 ,  0.46094228,  0.45693125,  0.43928137,  0.41315209,\n",
      "        0.39600458,  0.25845497,  0.49224121,  0.48753375,  0.46892275,\n",
      "        0.44863336,  0.4223176 ,  0.09794239,  0.45634032,  0.45503827,\n",
      "        0.42390746,  0.41350017,  0.3933981 ,  0.23387978,  0.48583484,\n",
      "        0.47922524,  0.45824133,  0.43384545,  0.41425759,  0.3140327 ,\n",
      "        0.52962085,  0.5136646 ,  0.48688047,  0.46107856,  0.43710933,\n",
      "        0.16718507,  0.48587353,  0.47899287,  0.45023047,  0.43270099,\n",
      "        0.41998288,  0.28641629,  0.52362358,  0.50640635,  0.4822899 ,\n",
      "        0.45501285,  0.43489698,  0.37610186,  0.56746729,  0.54028878,\n",
      "        0.50902235,  0.48323133,  0.46866359]), 'split2_train_score': array([ 0.        ,  0.42461538,  0.43260474,  0.41949318,  0.39589104,\n",
      "        0.38127678,  0.        ,  0.43420506,  0.45738871,  0.41679312,\n",
      "        0.40795901,  0.38758869,  0.0777592 ,  0.45803407,  0.46366559,\n",
      "        0.43895931,  0.41594777,  0.40639074,  0.09609856,  0.44475524,\n",
      "        0.45287753,  0.42760451,  0.41052512,  0.39841236,  0.12429379,\n",
      "        0.46958926,  0.46178395,  0.43824598,  0.42078404,  0.40547291,\n",
      "        0.21209858,  0.48736462,  0.47980034,  0.45831687,  0.43651725,\n",
      "        0.41525064,  0.12690763,  0.46899225,  0.47529917,  0.44719043,\n",
      "        0.43347438,  0.40593645,  0.21998509,  0.48837671,  0.49048496,\n",
      "        0.4610616 ,  0.44475459,  0.41366421,  0.30277778,  0.53076469,\n",
      "        0.51013256,  0.48560435,  0.46120793,  0.43604588,  0.        ,\n",
      "        0.43391934,  0.44837089,  0.41590137,  0.41044957,  0.38287678,\n",
      "        0.07692308,  0.45723551,  0.46374476,  0.43849127,  0.41730635,\n",
      "        0.4072176 ,  0.26666667,  0.49574004,  0.4947402 ,  0.47679098,\n",
      "        0.45144294,  0.43158943,  0.13328013,  0.46776084,  0.46363195,\n",
      "        0.43151638,  0.41677168,  0.40236686,  0.22598454,  0.49078526,\n",
      "        0.48587395,  0.45833333,  0.43365012,  0.41190027,  0.33710106,\n",
      "        0.53090333,  0.51595007,  0.48851496,  0.46367702,  0.44270717,\n",
      "        0.18860662,  0.48828125,  0.48925313,  0.45758355,  0.4343176 ,\n",
      "        0.412209  ,  0.30349119,  0.52937709,  0.51070336,  0.48602381,\n",
      "        0.4598113 ,  0.43507773,  0.39242132,  0.56809339,  0.54850863,\n",
      "        0.51646831,  0.4921875 ,  0.47204101]), 'param_n_estimators': masked_array(data = [20 20 20 20 20 20 50 50 50 50 50 50 100 100 100 100 100 100 20 20 20 20 20\n",
      " 20 50 50 50 50 50 50 100 100 100 100 100 100 20 20 20 20 20 20 50 50 50 50\n",
      " 50 50 100 100 100 100 100 100 20 20 20 20 20 20 50 50 50 50 50 50 100 100\n",
      " 100 100 100 100 20 20 20 20 20 20 50 50 50 50 50 50 100 100 100 100 100\n",
      " 100 20 20 20 20 20 20 50 50 50 50 50 50 100 100 100 100 100 100],\n",
      "             mask = [False False False False False False False False False False False False\n",
      " False False False False False False False False False False False False\n",
      " False False False False False False False False False False False False\n",
      " False False False False False False False False False False False False\n",
      " False False False False False False False False False False False False\n",
      " False False False False False False False False False False False False\n",
      " False False False False False False False False False False False False\n",
      " False False False False False False False False False False False False\n",
      " False False False False False False False False False False False False],\n",
      "       fill_value = ?)\n",
      ", 'split4_train_score': array([ 0.        ,  0.42059373,  0.43548891,  0.42255063,  0.38907456,\n",
      "        0.37881606,  0.        ,  0.41786558,  0.43902439,  0.41297408,\n",
      "        0.39404432,  0.3651258 ,  0.07608696,  0.45173191,  0.4550316 ,\n",
      "        0.4258525 ,  0.40928415,  0.4011341 ,  0.07139857,  0.43582567,\n",
      "        0.44752933,  0.41241527,  0.39960522,  0.39259804,  0.13204509,\n",
      "        0.45336529,  0.45214626,  0.43369775,  0.4157524 ,  0.39720746,\n",
      "        0.21171171,  0.48555377,  0.47690887,  0.45301142,  0.43013226,\n",
      "        0.41549444,  0.14811881,  0.47290456,  0.46647319,  0.45558262,\n",
      "        0.43640607,  0.39315907,  0.19717233,  0.48877093,  0.48216445,\n",
      "        0.46070255,  0.44205661,  0.4145641 ,  0.28571429,  0.52946897,\n",
      "        0.5054315 ,  0.48116551,  0.45621469,  0.43023629,  0.        ,\n",
      "        0.42089864,  0.44047059,  0.41121258,  0.39410002,  0.3462307 ,\n",
      "        0.0879668 ,  0.45141451,  0.45372751,  0.42961975,  0.41201117,\n",
      "        0.39991647,  0.26170897,  0.48234827,  0.48357925,  0.46977913,\n",
      "        0.44751773,  0.4246472 ,  0.12810248,  0.45355083,  0.44907552,\n",
      "        0.43251613,  0.40893703,  0.39251568,  0.2081142 ,  0.48465775,\n",
      "        0.47812166,  0.45717275,  0.4283921 ,  0.41540549,  0.31228552,\n",
      "        0.53050814,  0.51349693,  0.48489666,  0.46181556,  0.44210759,\n",
      "        0.18963532,  0.49058824,  0.48079232,  0.45228791,  0.43045755,\n",
      "        0.40553828,  0.2896503 ,  0.53346304,  0.50779712,  0.48060797,\n",
      "        0.45683241,  0.42937733,  0.39259019,  0.56757813,  0.53969725,\n",
      "        0.50944924,  0.4854082 ,  0.46376481]), 'mean_score_time': array([ 0.01835661,  0.01782403,  0.0195806 ,  0.02541351,  0.01827421,\n",
      "        0.01967964,  0.02387195,  0.0235044 ,  0.02314606,  0.02289782,\n",
      "        0.02245321,  0.02361522,  0.0325644 ,  0.03254299,  0.03145099,\n",
      "        0.03283525,  0.03206005,  0.03286018,  0.0242661 ,  0.01931219,\n",
      "        0.01877856,  0.01960959,  0.01966558,  0.02026801,  0.02521539,\n",
      "        0.02601752,  0.02640557,  0.02572985,  0.02493458,  0.024826  ,\n",
      "        0.03802385,  0.0381    ,  0.03766379,  0.03710446,  0.0383832 ,\n",
      "        0.03739605,  0.01963062,  0.01938996,  0.02000737,  0.01987767,\n",
      "        0.01987562,  0.01979961,  0.0297534 ,  0.02949481,  0.02988992,\n",
      "        0.02896056,  0.028754  ,  0.0280952 ,  0.04697833,  0.04525795,\n",
      "        0.04393101,  0.04471793,  0.04559684,  0.04446139,  0.01877131,\n",
      "        0.01883059,  0.01803684,  0.01807218,  0.01720023,  0.01849794,\n",
      "        0.02229738,  0.02258558,  0.0234066 ,  0.02287054,  0.02223921,\n",
      "        0.02326899,  0.0342298 ,  0.03468819,  0.03608122,  0.03492899,\n",
      "        0.03550272,  0.0343894 ,  0.01828117,  0.01894016,  0.01898575,\n",
      "        0.01904578,  0.01880636,  0.0185822 ,  0.02517686,  0.02442584,\n",
      "        0.02435327,  0.02438602,  0.02416487,  0.02469516,  0.040661  ,\n",
      "        0.04123979,  0.04135919,  0.04216795,  0.04211144,  0.04145842,\n",
      "        0.01936517,  0.02004485,  0.01977563,  0.0197228 ,  0.01931958,\n",
      "        0.01989298,  0.02948155,  0.02794995,  0.02878318,  0.02906723,\n",
      "        0.02877035,  0.02840886,  0.04523029,  0.047298  ,  0.04601145,\n",
      "        0.0475132 ,  0.04830999,  0.04853148]), 'mean_train_score': array([ 0.        ,  0.42419089,  0.44163445,  0.4181246 ,  0.39765182,\n",
      "        0.37998163,  0.00907146,  0.43446951,  0.44835755,  0.41851393,\n",
      "        0.40235216,  0.3802231 ,  0.07986174,  0.4595272 ,  0.46044694,\n",
      "        0.43717891,  0.41359556,  0.40113069,  0.07327819,  0.43863441,\n",
      "        0.45371215,  0.41825735,  0.40525235,  0.39417826,  0.13844899,\n",
      "        0.46600584,  0.46149199,  0.43818303,  0.41844824,  0.40121903,\n",
      "        0.22400996,  0.4884454 ,  0.48030861,  0.45828625,  0.43516105,\n",
      "        0.41576989,  0.18037418,  0.47287387,  0.47204242,  0.45049871,\n",
      "        0.43156724,  0.40483036,  0.21506041,  0.49471018,  0.48903164,\n",
      "        0.46100645,  0.44149963,  0.41886309,  0.29819555,  0.53154016,\n",
      "        0.51105296,  0.48366928,  0.45804406,  0.43518546,  0.        ,\n",
      "        0.43161802,  0.44759732,  0.41607691,  0.40181217,  0.35607263,\n",
      "        0.0850234 ,  0.45841837,  0.46110241,  0.43800284,  0.41471438,\n",
      "        0.40091408,  0.26703108,  0.49392046,  0.48900588,  0.47464165,\n",
      "        0.44986888,  0.42566504,  0.11989997,  0.46078159,  0.45910534,\n",
      "        0.43000955,  0.41277899,  0.39716072,  0.23225134,  0.48851627,\n",
      "        0.48297495,  0.46032733,  0.43371973,  0.41528669,  0.33235252,\n",
      "        0.53134768,  0.5147534 ,  0.48854017,  0.46201399,  0.44168247,\n",
      "        0.19287039,  0.49083202,  0.48491315,  0.45578124,  0.43760102,\n",
      "        0.41217086,  0.29771826,  0.53180768,  0.51120997,  0.4849214 ,\n",
      "        0.45878064,  0.43476787,  0.39678049,  0.57031662,  0.54379677,\n",
      "        0.51448651,  0.48754777,  0.46811205]), 'param_learning_rate': masked_array(data = [0.05 0.05 0.05 0.05 0.05 0.05 0.05 0.05 0.05 0.05 0.05 0.05 0.05 0.05 0.05\n",
      " 0.05 0.05 0.05 0.05 0.05 0.05 0.05 0.05 0.05 0.05 0.05 0.05 0.05 0.05 0.05\n",
      " 0.05 0.05 0.05 0.05 0.05 0.05 0.05 0.05 0.05 0.05 0.05 0.05 0.05 0.05 0.05\n",
      " 0.05 0.05 0.05 0.05 0.05 0.05 0.05 0.05 0.05 0.1 0.1 0.1 0.1 0.1 0.1 0.1\n",
      " 0.1 0.1 0.1 0.1 0.1 0.1 0.1 0.1 0.1 0.1 0.1 0.1 0.1 0.1 0.1 0.1 0.1 0.1\n",
      " 0.1 0.1 0.1 0.1 0.1 0.1 0.1 0.1 0.1 0.1 0.1 0.1 0.1 0.1 0.1 0.1 0.1 0.1\n",
      " 0.1 0.1 0.1 0.1 0.1 0.1 0.1 0.1 0.1 0.1 0.1],\n",
      "             mask = [False False False False False False False False False False False False\n",
      " False False False False False False False False False False False False\n",
      " False False False False False False False False False False False False\n",
      " False False False False False False False False False False False False\n",
      " False False False False False False False False False False False False\n",
      " False False False False False False False False False False False False\n",
      " False False False False False False False False False False False False\n",
      " False False False False False False False False False False False False\n",
      " False False False False False False False False False False False False],\n",
      "       fill_value = ?)\n",
      ", 'split0_test_score': array([ 0.        ,  0.42038217,  0.43263757,  0.41725888,  0.39295644,\n",
      "        0.37115936,  0.        ,  0.4272802 ,  0.43467643,  0.42402089,\n",
      "        0.4028777 ,  0.37952052,  0.06010017,  0.44444444,  0.45116572,\n",
      "        0.4287257 ,  0.4076087 ,  0.39496855,  0.04102564,  0.42710796,\n",
      "        0.43972517,  0.41162228,  0.39588919,  0.39397849,  0.13291139,\n",
      "        0.45849802,  0.44472362,  0.4244568 ,  0.41306348,  0.4008658 ,\n",
      "        0.20719424,  0.47768207,  0.45955882,  0.43402062,  0.42300557,\n",
      "        0.41047297,  0.20467836,  0.45022288,  0.45094455,  0.4335523 ,\n",
      "        0.41848068,  0.3965798 ,  0.2079063 ,  0.4620155 ,  0.4642639 ,\n",
      "        0.444333  ,  0.42280072,  0.41271186,  0.25956284,  0.49429658,\n",
      "        0.47451456,  0.45855194,  0.43425926,  0.41702867,  0.        ,\n",
      "        0.4184168 ,  0.43878185,  0.4154002 ,  0.40112465,  0.34423284,\n",
      "        0.07590759,  0.44390638,  0.45238095,  0.42872454,  0.40855323,\n",
      "        0.3960901 ,  0.23809524,  0.47730829,  0.47436689,  0.44867725,\n",
      "        0.43918599,  0.4142673 ,  0.1009772 ,  0.44976816,  0.44373808,\n",
      "        0.41795511,  0.40636364,  0.39587806,  0.20231214,  0.47295209,\n",
      "        0.45889571,  0.43478261,  0.42896425,  0.41229193,  0.2890933 ,\n",
      "        0.49340574,  0.46609125,  0.4573235 ,  0.44083969,  0.4281236 ,\n",
      "        0.17797888,  0.46508058,  0.46366366,  0.44321608,  0.42465753,\n",
      "        0.38938053,  0.27371274,  0.48899013,  0.47144593,  0.45564304,\n",
      "        0.4310987 ,  0.41496303,  0.32315522,  0.49923195,  0.47901235,\n",
      "        0.46637744,  0.44563627,  0.42699725]), 'mean_test_score': array([ 0.        ,  0.42314728,  0.43728671,  0.4148401 ,  0.39499633,\n",
      "        0.37707683,  0.00620652,  0.42529969,  0.44215428,  0.41615623,\n",
      "        0.39815704,  0.37744102,  0.06554502,  0.45187824,  0.45549838,\n",
      "        0.429548  ,  0.40718043,  0.39542766,  0.05613864,  0.43351571,\n",
      "        0.44496271,  0.41139569,  0.40043526,  0.38898857,  0.13165125,\n",
      "        0.45361754,  0.45204802,  0.42999375,  0.41071786,  0.39465694,\n",
      "        0.202104  ,  0.46847803,  0.4625053 ,  0.44551998,  0.42390546,\n",
      "        0.40601985,  0.16453045,  0.45470024,  0.45721646,  0.43460142,\n",
      "        0.41869893,  0.39377355,  0.18744023,  0.46520691,  0.46842319,\n",
      "        0.44484839,  0.42424914,  0.40593881,  0.25424207,  0.48755777,\n",
      "        0.47902241,  0.45806243,  0.43595218,  0.41506371,  0.        ,\n",
      "        0.42523158,  0.44560928,  0.41234953,  0.39862027,  0.35342042,\n",
      "        0.07267325,  0.45217947,  0.45664688,  0.43165749,  0.41072867,\n",
      "        0.39591779,  0.23109607,  0.47781268,  0.47302904,  0.45460317,\n",
      "        0.43531396,  0.41488392,  0.10667574,  0.44767531,  0.44827161,\n",
      "        0.42199768,  0.40531388,  0.39037541,  0.20585402,  0.4688511 ,\n",
      "        0.46629764,  0.44539446,  0.42180568,  0.40586001,  0.28894707,\n",
      "        0.48597712,  0.48131659,  0.45941349,  0.43931914,  0.42218434,\n",
      "        0.16980221,  0.46325906,  0.46445702,  0.44109239,  0.42214691,\n",
      "        0.39919721,  0.26097902,  0.48761096,  0.47854797,  0.45709789,\n",
      "        0.43599058,  0.41586817,  0.31558677,  0.49603217,  0.48756347,\n",
      "        0.46595028,  0.44620812,  0.42877754]), 'split3_test_score': array([ 0.        ,  0.41940789,  0.42098688,  0.40283401,  0.39176245,\n",
      "        0.3793722 ,  0.03103448,  0.42177914,  0.4247678 ,  0.40328374,\n",
      "        0.39369326,  0.37515632,  0.06930693,  0.44285714,  0.43617704,\n",
      "        0.42049093,  0.39425837,  0.38596491,  0.08496732,  0.42677165,\n",
      "        0.42233633,  0.39719626,  0.39168877,  0.38569604,  0.12693498,\n",
      "        0.44709389,  0.4365285 ,  0.42374616,  0.40275862,  0.38608401,\n",
      "        0.18340611,  0.44891641,  0.44921136,  0.440625  ,  0.41697417,\n",
      "        0.39933166,  0.18795888,  0.45243446,  0.43715847,  0.42701299,\n",
      "        0.4193849 ,  0.38581108,  0.19825073,  0.45019011,  0.45648205,\n",
      "        0.43892549,  0.41759259,  0.39781329,  0.24484182,  0.48297214,\n",
      "        0.46351931,  0.45007924,  0.43295019,  0.41168775,  0.        ,\n",
      "        0.42073171,  0.42669994,  0.40082009,  0.39370829,  0.34683358,\n",
      "        0.06322795,  0.44357977,  0.43774069,  0.42099625,  0.39776952,\n",
      "        0.38723226,  0.23776224,  0.45232467,  0.45425464,  0.44348296,\n",
      "        0.42660333,  0.40378007,  0.11783439,  0.44410876,  0.42729592,\n",
      "        0.41407867,  0.39587998,  0.3854299 ,  0.18340611,  0.45518316,\n",
      "        0.45149254,  0.44257997,  0.40999537,  0.40236686,  0.272     ,\n",
      "        0.4624    ,  0.47051672,  0.45040214,  0.43474088,  0.41688889,\n",
      "        0.19145803,  0.45007452,  0.45287638,  0.43265306,  0.42184557,\n",
      "        0.39648683,  0.24275862,  0.47292143,  0.47037263,  0.44932079,\n",
      "        0.43248438,  0.4092901 ,  0.29198966,  0.47159533,  0.47411104,\n",
      "        0.45589041,  0.443     ,  0.4287703 ]), 'split1_test_score': array([ 0.        ,  0.42052145,  0.44641638,  0.4174359 ,  0.4015333 ,\n",
      "        0.37201365,  0.        ,  0.42314335,  0.4425914 ,  0.4156658 ,\n",
      "        0.39177186,  0.3767879 ,  0.06112054,  0.44222776,  0.4578633 ,\n",
      "        0.42857143,  0.40626439,  0.39473684,  0.02090592,  0.43471074,\n",
      "        0.45092838,  0.42083548,  0.41192412,  0.38534376,  0.15311005,\n",
      "        0.45737052,  0.46174142,  0.43469282,  0.41042345,  0.39360807,\n",
      "        0.23460411,  0.4677686 ,  0.46428571,  0.45191802,  0.42124542,\n",
      "        0.40536013,  0.19090909,  0.45534996,  0.45833333,  0.43500512,\n",
      "        0.40671972,  0.40033855,  0.16975309,  0.4784    ,  0.47607053,\n",
      "        0.44887526,  0.42062044,  0.40639462,  0.25501433,  0.48859935,\n",
      "        0.48366834,  0.45877378,  0.44005642,  0.41753472,  0.        ,\n",
      "        0.42300885,  0.45921864,  0.41570681,  0.39418114,  0.34312321,\n",
      "        0.06418919,  0.44166667,  0.46194927,  0.43329658,  0.41132776,\n",
      "        0.39313445,  0.24566474,  0.47251846,  0.48563969,  0.45801527,\n",
      "        0.42730248,  0.41173969,  0.07666667,  0.45065789,  0.45789474,\n",
      "        0.41968912,  0.41141279,  0.38870432,  0.25501433,  0.46584362,\n",
      "        0.47741935,  0.45073375,  0.42071494,  0.40212505,  0.30434783,\n",
      "        0.47658176,  0.49935484,  0.4585783 ,  0.43660629,  0.4210989 ,\n",
      "        0.15433071,  0.47498014,  0.46421904,  0.44310171,  0.42      ,\n",
      "        0.40222032,  0.27311522,  0.49878148,  0.48740554,  0.46268657,\n",
      "        0.43865467,  0.41943958,  0.34120735,  0.49509804,  0.4955414 ,\n",
      "        0.46834061,  0.44356826,  0.42647059])}\n",
      "0.4960321723\n",
      "{'n_estimators': 100, 'scale_pos_weight': 3, 'learning_rate': 0.1, 'max_depth': 5}\n"
     ]
    },
    {
     "name": "stderr",
     "output_type": "stream",
     "text": [
      "/Users/mac/anaconda/lib/python2.7/json/encoder.py:207: DeprecationWarning: Interpreting naive datetime as local 2017-09-07 07:31:42.650611. Please add timezone info to timestamps.\n",
      "  chunks = self.iterencode(o, _one_shot=True)\n"
     ]
    }
   ],
   "source": [
    "#DO NOT RUN FOR TESTING, RESULT OF GRIDSEARCH\n",
    "print clf.cv_results_\n",
    "print clf.best_score_\n",
    "print clf.best_params_"
   ]
  },
  {
   "cell_type": "code",
   "execution_count": 26,
   "metadata": {
    "collapsed": false,
    "deletable": true,
    "editable": true
   },
   "outputs": [
    {
     "name": "stdout",
     "output_type": "stream",
     "text": [
      "We have decided to use a gradient boosting algorithm, because it provides very good results for prediction problems\n",
      "The model is complex but tend to not overfit too much.\n",
      "It is robust to noisy training data, robust to correlated features, robut to large interval features.\n",
      "It has a parameter to handle imbalanced data.\n",
      "\n",
      "We have chosen to optimize and calculate the model performances with the F1-score metric because it takes in account the fact the dataset is imbalanced instead of the ROC AUC or accuracy\n",
      "We shuffle and stratify the different sets for cross validation error testing with 10 splits\n",
      "After training and testing on the 10 splits we average the differents metrics\n",
      "With standard threshold of 0.5 \n",
      "Precision : 0.437500887013, \n",
      "Recall : 0.493104528482, \n",
      "F1-Score : 0.463499643983\n"
     ]
    }
   ],
   "source": [
    "print \"We have decided to use a gradient boosting algorithm, because it provides very good results for prediction problems\"\n",
    "print \"The model is complex but tend to not overfit too much.\"\n",
    "print \"It is robust to noisy training data, robust to correlated features, robut to large interval features.\"\n",
    "print \"It has a parameter to handle imbalanced data.\"\n",
    "print \"\\nWe have chosen to optimize and calculate the model performances with the F1-score metric because it takes in account the fact the dataset is imbalanced instead of the ROC AUC or accuracy\"\n",
    "print 'We shuffle and stratify the different sets for cross validation error testing with 10 splits'\n",
    "print 'After training and testing on the 10 splits we average the differents metrics'\n",
    "skf = StratifiedKFold(n_splits = 10, shuffle = True, random_state = 22)\n",
    "skf.get_n_splits(X, y)\n",
    "\n",
    "# PARAMETERS FOUND IN THE GRIDSEARCH\n",
    "clf = XGBClassifier(n_estimators= 100, scale_pos_weight= 3, learning_rate= 0.1, max_depth= 5) \n",
    "\n",
    "sc = []\n",
    "\n",
    "for train_index, test_index in skf.split(X, y):\n",
    "    X_train, X_test = X.iloc[train_index], X.iloc[test_index]\n",
    "    y_train, y_test = y.iloc[train_index], y.iloc[test_index]\n",
    "    # OVERSAMPLING AND UNDERSAMPLING HAVE BEEN TESTED AND GIVE WORST RESULTS THAN THE TWEAKING OF THE scale_pos_weight   \n",
    "    # OVERSAMPLING\n",
    "    #nm = SMOTE(random_state=42)\n",
    "    # UNDERSAMPLING\n",
    "    #nm = NearMiss(random_state=42)\n",
    "    # X_train, y_train = nm.fit_sample(X_train, y_train)\n",
    "    mdl = clf.fit(X_train, y_train.ravel())\n",
    "    sc.append(precision_recall_fscore_support(y_test, mdl.predict(X_test), average = 'binary')[0:-1])\n",
    "\n",
    "print 'With standard threshold of 0.5 \\nPrecision : %s, \\nRecall : %s, \\nF1-Score : %s' % (np.mean(sc, axis=0)[0], np.mean(sc, axis=0)[1], np.mean(sc, axis=0)[2])                  "
   ]
  },
  {
   "cell_type": "code",
   "execution_count": 27,
   "metadata": {
    "collapsed": false,
    "deletable": true,
    "editable": true
   },
   "outputs": [
    {
     "name": "stdout",
     "output_type": "stream",
     "text": [
      "Precision-recall curve plotted for the last (10th) fold\n",
      "\n",
      "[QUOTE http://scikit-learn.org/stable/auto_examples/model_selection/plot_precision_recall.html]\n",
      "A system with high recall but low precision returns many results, but most of its predicted labels are incorrect.\n",
      "A system with high precision but low recall is just the opposite, returning very few results, but most of its predicted labels are correct.\n",
      "[END QUOTE]\n",
      "\n",
      "Depending on our marketing strategy, sometimes we would prefer to have a high recall, sometimes a high precision. The best, of course, would be to have both high.\n",
      "For our study we have decided to balance the two by picking the best f1-score, which is the harmonic mean of these two metrics\n"
     ]
    },
    {
     "data": {
      "image/png": "[encoded data removed]",
      "text/plain": [
       "<matplotlib.figure.Figure at 0x10e64e590>"
      ]
     },
     "metadata": {},
     "output_type": "display_data"
    }
   ],
   "source": [
    "print 'Precision-recall curve plotted for the last (10th) fold\\n'\n",
    "print '[QUOTE http://scikit-learn.org/stable/auto_examples/model_selection/plot_precision_recall.html]'\n",
    "print 'A system with high recall but low precision returns many results, but most of its predicted labels are incorrect.'\n",
    "print 'A system with high precision but low recall is just the opposite, returning very few results, but most of its predicted labels are correct.'\n",
    "print '[END QUOTE]\\n'\n",
    "print 'Depending on our marketing strategy, sometimes we would prefer to have a high recall, sometimes a high precision. The best, of course, would be to have both high.'\n",
    "print 'For our study we have decided to balance the two by picking the best f1-score, which is the harmonic mean of these two metrics'\n",
    "precision, recall, _ = precision_recall_curve(y_test, mdl.predict_proba(X_test)[:,1])\n",
    "average_precision = average_precision_score(y_test, mdl.predict_proba(X_test)[:,1])\n",
    "\n",
    "plt.step(recall, precision, color='b', alpha=0.2,\n",
    "         where='post')\n",
    "plt.fill_between(recall, precision, step='post', alpha=0.2,\n",
    "                 color='b')\n",
    "\n",
    "plt.xlabel('Recall')\n",
    "plt.ylabel('Precision')\n",
    "plt.ylim([0.0, 1.05])\n",
    "plt.xlim([0.0, 1.0])\n",
    "plt.title('2-class Precision-Recall curve: AUC={0:0.2f}'.format(\n",
    "          average_precision))\n",
    "plt.show()"
   ]
  },
  {
   "cell_type": "code",
   "execution_count": 28,
   "metadata": {
    "collapsed": false,
    "deletable": true,
    "editable": true
   },
   "outputs": [
    {
     "name": "stdout",
     "output_type": "stream",
     "text": [
      "Feature importance barchart plotted for the last (10th) fold\n",
      "\n",
      "The most important feature is the eCPC which seems ok. It indicates some kind of quality in the segment.\n",
      "Discarding the Spend feature allowed us to remove the bias it induced.\n",
      "The in-game features are also important and summed they come first in importance which is a good news\n",
      "\n"
     ]
    },
    {
     "data": {
      "image/png": "[encoded data removed]",
      "text/plain": [
       "<matplotlib.figure.Figure at 0x10ec12a90>"
      ]
     },
     "metadata": {},
     "output_type": "display_data"
    }
   ],
   "source": [
    "print 'Feature importance barchart plotted for the last (10th) fold\\n'\n",
    "xgb.plot_importance(mdl)\n",
    "print 'The most important feature is the eCPC which seems ok. It indicates some kind of quality in the segment.'\n",
    "print 'Discarding the Spend feature allowed us to remove the bias it induced.'\n",
    "print 'The in-game features are also important and summed they come first in importance which is a good news\\n'"
   ]
  },
  {
   "cell_type": "code",
   "execution_count": 29,
   "metadata": {
    "collapsed": false,
    "deletable": true,
    "editable": true
   },
   "outputs": [
    {
     "name": "stdout",
     "output_type": "stream",
     "text": [
      "We train the model on the training set and we predict the probas on this same set\n",
      "         Game    Affiliate Platform Country        Placement  Impressions  \\\n",
      "0     Vikings  Affiliate 3      Web      US  Placement 16881      6396124   \n",
      "1     Vikings  Affiliate 3      Web      US  Placement 17647     11814535   \n",
      "2     Vikings  Affiliate 3      Web      US  Placement 17768      7848002   \n",
      "3  Terminator  Affiliate 1      iOS      US   Placement 3669       364361   \n",
      "4  Terminator  Affiliate 1      iOS      US   Placement 3701       391893   \n",
      "\n",
      "   Clicks  Installs  FiveBattles  FiveLevels    ...     DepositAmount  \\\n",
      "0   19440       465            0          13    ...          12811.50   \n",
      "1   17551       589            0          15    ...          14355.63   \n",
      "2   10212       335            2           4    ...            136.50   \n",
      "3    1070       237            6           4    ...            259.74   \n",
      "4    1095       195            6           8    ...            110.50   \n",
      "\n",
      "                                    Segment       CTR  DepositorsRate  \\\n",
      "0    VikingsAffiliate 3WebUSPlacement 16881  0.003039        0.058065   \n",
      "1    VikingsAffiliate 3WebUSPlacement 17647  0.001486        0.096774   \n",
      "2    VikingsAffiliate 3WebUSPlacement 17768  0.001301        0.011940   \n",
      "3  TerminatorAffiliate 1iOSUSPlacement 3669  0.002937        0.033755   \n",
      "4  TerminatorAffiliate 1iOSUSPlacement 3701  0.002794        0.010256   \n",
      "\n",
      "   GoodSegment      eCPC       eCPM       eCR   proba_0   proba_1  \n",
      "0            1  0.675858   2.054163  0.000073  0.275875  0.724125  \n",
      "1            1  0.681651   1.012621  0.000050  0.352953  0.647047  \n",
      "2            0  0.631344   0.821520  0.000043  0.738863  0.261137  \n",
      "3            1  6.016860  17.669399  0.000650  0.621894  0.378106  \n",
      "4            0  5.877242  16.421778  0.000498  0.382195  0.617805  \n",
      "\n",
      "[5 rows x 29 columns]\n"
     ]
    }
   ],
   "source": [
    "print 'We train the model on the training set and we predict the probas on this same set'\n",
    "mdl = clf.fit(X, y)\n",
    "prob = mdl.predict_proba(X)\n",
    "\n",
    "df[\"proba_0\"] = prob[:,0]\n",
    "df[\"proba_1\"] = prob[:,1]\n",
    "\n",
    "print df.head()"
   ]
  },
  {
   "cell_type": "code",
   "execution_count": 30,
   "metadata": {
    "collapsed": false,
    "deletable": true,
    "editable": true
   },
   "outputs": [
    {
     "name": "stdout",
     "output_type": "stream",
     "text": [
      "To build a better modelisation :\n",
      "- We can add more variables like dates & timed variables, real cpc and cpm of the campaigns, information about the placement (type of ad, website ad, mobile ad...), more in-game stats, info about the devices used ...\n",
      "- We can increase the number of training data and good segments\n",
      "- We can use a regression model instead.\n",
      "  Using a regression model will capture more information. When we categorize the DepositorsRate in two class we lose a lot of information\n",
      "- If we have a lot of data, we can train a deep neural network\n",
      "- We could try also try to predict the DepositAmount, or the ROI\n"
     ]
    }
   ],
   "source": [
    "print 'To build a better modelisation :'\n",
    "print '- We can add more variables like dates & timed variables, real cpc and cpm of the campaigns, information about the placement (type of ad, website ad, mobile ad...), more in-game stats, info about the devices used ...'\n",
    "print '- We can increase the number of training data and good segments'\n",
    "print '- We can use a regression model instead.'\n",
    "print '  Using a regression model will capture more information. When we categorize the DepositorsRate in two class we lose a lot of information'\n",
    "print '- If we have a lot of data, we can train a deep neural network'\n",
    "print '- We could try also try to predict the DepositAmount, or the ROI'"
   ]
  },
  {
   "cell_type": "code",
   "execution_count": 31,
   "metadata": {
    "collapsed": false,
    "deletable": true,
    "editable": true
   },
   "outputs": [
    {
     "name": "stdout",
     "output_type": "stream",
     "text": [
      "Conclusion : \n",
      "\n",
      "The results of the modelisation are satisfying considering the traits of our training dataset (F1-score ~ 0.5).\n",
      "The set is imbalanced and the signal in the features is a bit weak for our classification problem.\n",
      "If our goal is to be able to identify some of the good segments without too many false positive, our model is fine.\n",
      "\n",
      "One other thing is : We use data from the future (in-game data, campaigns stats) to predict\n",
      "something we will want to use in the present in order to help us to take decisions about how and where to spend money, which is a bit weird\n"
     ]
    }
   ],
   "source": [
    "print 'Conclusion : \\n'\n",
    "print 'The results of the modelisation are satisfying considering the traits of our training dataset (F1-score ~ 0.5).'\n",
    "print 'The set is imbalanced and the signal in the features is a bit weak for our classification problem.'\n",
    "print 'If our goal is to be able to identify some of the good segments without too many false positive, our model is fine.'\n",
    "print '\\nOne other thing is : We use data from the future (in-game data, campaigns stats) to predict' \n",
    "print 'something we will want to use in the present in order to help us to take decisions about how and where to spend money, which is a bit weird'"
   ]
  },
  {
   "cell_type": "code",
   "execution_count": 32,
   "metadata": {
    "collapsed": false,
    "deletable": true,
    "editable": true
   },
   "outputs": [
    {
     "name": "stdout",
     "output_type": "stream",
     "text": [
      "UPDATE \n",
      "\n",
      "I've decided to discard the Spend feature in order to get a more robust prediction and instead adding campaign KPIs features.\n",
      "The metrics for the previous model gave slightly better results but this was certainly due to the overfitting on the Spend feature\n",
      "I'm more confident with this model and I think its power of generalization will be better.\n"
     ]
    }
   ],
   "source": [
    "print 'UPDATE \\n'\n",
    "print 'I\\'ve decided to discard the Spend feature in order to get a more robust prediction and instead adding campaign KPIs features.'\n",
    "print 'The metrics for the previous model gave slightly better results but this was certainly due to the overfitting on the Spend feature'\n",
    "print 'I\\'m more confident with this model and I think its power of generalization will be better.'"
   ]
  }
 ],
 "metadata": {
  "kernelspec": {
   "display_name": "Python 2",
   "language": "python",
   "name": "python2"
  },
  "language_info": {
   "codemirror_mode": {
    "name": "ipython",
    "version": 2
   },
   "file_extension": ".py",
   "mimetype": "text/x-python",
   "name": "python",
   "nbconvert_exporter": "python",
   "pygments_lexer": "ipython2",
   "version": "2.7.13"
  }
 },
 "nbformat": 4,
 "nbformat_minor": 2
}
